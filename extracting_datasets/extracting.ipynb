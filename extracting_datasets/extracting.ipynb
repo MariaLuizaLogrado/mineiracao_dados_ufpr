{
 "cells": [
  {
   "cell_type": "code",
   "execution_count": 2,
   "metadata": {},
   "outputs": [],
   "source": [
    "import aspose.zip as az\n",
    "\n",
    "# Carregar arquivo RAR\n",
    "with az.rar.RarArchive(\"Datasets.rar\") as archive:\n",
    "  \n",
    "    # Extraia o arquivo RAR\n",
    "    archive.extract_to_directory(\"../\")\n"
   ]
  }
 ],
 "metadata": {
  "kernelspec": {
   "display_name": "min_dados_py31",
   "language": "python",
   "name": "python3"
  },
  "language_info": {
   "codemirror_mode": {
    "name": "ipython",
    "version": 3
   },
   "file_extension": ".py",
   "mimetype": "text/x-python",
   "name": "python",
   "nbconvert_exporter": "python",
   "pygments_lexer": "ipython3",
   "version": "3.10.15"
  }
 },
 "nbformat": 4,
 "nbformat_minor": 2
}
