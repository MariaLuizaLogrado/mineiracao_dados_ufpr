{
 "cells": [
  {
   "cell_type": "code",
   "execution_count": 1,
   "metadata": {},
   "outputs": [],
   "source": [
    "lista = [10, 20, 30, 1, -1, 50, 800, 500, -600]\n",
    "numElmts = len(lista)\n",
    "listaC = sorted(lista)\n",
    "listaD = sorted(lista, reverse=True)\n",
    "maior = max(lista)\n",
    "menor = min(lista)\n",
    "# print(f'A lista possui {numElmts} elementos, sendo eles na ordem crescente e decrescente respectivamente: {listaC}, {listaD}.\\nO maior valor é {maior} e o menor é {menor}.')\n",
    "\n",
    "string1 = input('Digite a primeira string: ')\n",
    "string2 = input('Digite a segunda string: ')\n",
    "\n",
    "if string1 == string2:\n",
    "    a = 'As strings são iguais.'\n",
    "else:\n",
    "    a = 'As strings são diferentes.'\n",
    "if len(string1) == len(string2):\n",
    "    b = 'As strings são do mesmo tamanho.'\n",
    "else:\n",
    "    b = 'As strings são de tamanhos diferentes.'\n",
    "\n",
    "print(f'{string1} ({len(string1)}) e {string2} ({len(string2)}).\\n{a}\\n{b}')"
   ]
  }
 ],
 "metadata": {
  "kernelspec": {
   "display_name": "base",
   "language": "python",
   "name": "python3"
  },
  "language_info": {
   "codemirror_mode": {
    "name": "ipython",
    "version": 3
   },
   "file_extension": ".py",
   "mimetype": "text/x-python",
   "name": "python",
   "nbconvert_exporter": "python",
   "pygments_lexer": "ipython3",
   "version": "3.12.2"
  }
 },
 "nbformat": 4,
 "nbformat_minor": 2
}
