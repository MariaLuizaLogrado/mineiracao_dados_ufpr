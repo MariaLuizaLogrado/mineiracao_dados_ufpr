{
 "cells": [
  {
   "cell_type": "markdown",
   "metadata": {},
   "source": [
    "---\n",
    "## Exercício 1\n",
    "---"
   ]
  },
  {
   "cell_type": "code",
   "execution_count": 4,
   "metadata": {},
   "outputs": [
    {
     "data": {
      "text/plain": [
       "array([10, 20, 30, 20, 10,  1,  0,  2,  5,  0, 20,  1,  4,  0, 20, 20, 20,\n",
       "       30, 40, 11, 44, 55])"
      ]
     },
     "execution_count": 4,
     "metadata": {},
     "output_type": "execute_result"
    }
   ],
   "source": [
    "import numpy as np\n",
    "\n",
    "v1 = [10,20,30,20,10,1,0,2,5,0,20,1,4,0,20,20,20,30,40,11,44,55]\n",
    "v2 = [1,25,50,41,5,20,10,23,5,10,20,13,4,20,100,20,50,35,40,4,55,55]\n",
    "\n",
    "array = np.array(v1)\n",
    "array2 = np.array(v2)\n",
    "\n",
    "array"
   ]
  },
  {
   "cell_type": "markdown",
   "metadata": {},
   "source": [
    "---\n",
    "## Exercício 2\n",
    "---"
   ]
  },
  {
   "cell_type": "code",
   "execution_count": 32,
   "metadata": {},
   "outputs": [
    {
     "name": "stdout",
     "output_type": "stream",
     "text": [
      "5050\n",
      "28.86607004772212\n"
     ]
    }
   ],
   "source": [
    "A = np.arange(1, 101, 1)\n",
    "print(A.sum())\n",
    "print(A.std())"
   ]
  },
  {
   "cell_type": "code",
   "execution_count": 34,
   "metadata": {},
   "outputs": [
    {
     "name": "stdout",
     "output_type": "stream",
     "text": [
      "95.80272149226137\n",
      "0.06774293033775461\n"
     ]
    }
   ],
   "source": [
    "B = [i/(i+1) for i in range(1, 101)]\n",
    "B = np.array(B)\n",
    "print(B.sum())\n",
    "print(B.std())"
   ]
  },
  {
   "cell_type": "code",
   "execution_count": 35,
   "metadata": {},
   "outputs": [
    {
     "name": "stdout",
     "output_type": "stream",
     "text": [
      "-0.4375\n",
      "0.07616542440635383\n"
     ]
    }
   ],
   "source": [
    "C = [(((-1)**i)*(i+1))/(3**i) for i in range(1,101)]\n",
    "C = np.array(C)\n",
    "print(C.sum())\n",
    "print(C.std())"
   ]
  },
  {
   "cell_type": "markdown",
   "metadata": {},
   "source": [
    "---\n",
    "## Exercício 3\n",
    "---"
   ]
  },
  {
   "cell_type": "code",
   "execution_count": 1,
   "metadata": {},
   "outputs": [
    {
     "data": {
      "text/plain": [
       "array([-0.59374269, -1.718373  , -1.206143  , -1.36095011, -0.55462992,\n",
       "        1.72505174,  0.53983719, -1.10064784,  0.19849229, -0.87963153,\n",
       "       -0.13976787, -0.4437838 ,  0.49046533,  0.49254182, -1.68875133,\n",
       "       -0.44356653,  0.48702419, -0.10763633, -2.41890964, -0.82512585])"
      ]
     },
     "execution_count": 1,
     "metadata": {},
     "output_type": "execute_result"
    }
   ],
   "source": [
    "import numpy as np\n",
    "\n",
    "arrN20 = np.random.randn(20)\n",
    "arrN20"
   ]
  },
  {
   "cell_type": "markdown",
   "metadata": {},
   "source": [
    "___\n",
    "## Exercício 4\n",
    "___"
   ]
  },
  {
   "cell_type": "code",
   "execution_count": 2,
   "metadata": {},
   "outputs": [
    {
     "data": {
      "text/plain": [
       "array([ -9,   6,   7,  -4,   9,   2,  -3, -10,   0, -10,  -7, -10,   1,\n",
       "        -6,   6,   1,   9,  -9,   3,  -1], dtype=int32)"
      ]
     },
     "execution_count": 2,
     "metadata": {},
     "output_type": "execute_result"
    }
   ],
   "source": [
    "arrU20 = np.random.randint(-10,10, size = 20)\n",
    "arrU20"
   ]
  },
  {
   "cell_type": "markdown",
   "metadata": {},
   "source": [
    "___\n",
    "## Exercício 5\n",
    "___"
   ]
  },
  {
   "cell_type": "code",
   "execution_count": 4,
   "metadata": {},
   "outputs": [
    {
     "name": "stdout",
     "output_type": "stream",
     "text": [
      "[ -5.93742691 -17.18373003 -12.06142998 -13.6095011   -5.54629923\n",
      "  17.25051736   5.39837192 -11.00647839   1.98492289  -8.79631526\n",
      "  -1.39767867  -4.437838     4.90465334   4.92541821 -16.8875133\n",
      "  -4.43566527   4.8702419   -1.07636331 -24.1890964   -8.25125846]\n"
     ]
    }
   ],
   "source": [
    "print(arrN20*10)"
   ]
  },
  {
   "cell_type": "markdown",
   "metadata": {},
   "source": [
    "___\n",
    "## Exercício 6\n",
    "___"
   ]
  },
  {
   "cell_type": "markdown",
   "metadata": {},
   "source": [
    "Não é o que se espera de um produto vetorial interno que nos retorna um escalar. Esse resutado nos retorna um vetor."
   ]
  },
  {
   "cell_type": "code",
   "execution_count": 8,
   "metadata": {},
   "outputs": [
    {
     "data": {
      "text/plain": [
       "array([  5.34368422, -10.31023802,  -8.44300099,   5.44380044,\n",
       "        -4.9916693 ,   3.45010347,  -1.61951158,  11.00647839,\n",
       "         0.        ,   8.79631526,   0.97837507,   4.437838  ,\n",
       "         0.49046533,  -2.95525092, -10.13250798,  -0.44356653,\n",
       "         4.38321771,   0.96872698,  -7.25672892,   0.82512585])"
      ]
     },
     "execution_count": 8,
     "metadata": {},
     "output_type": "execute_result"
    }
   ],
   "source": [
    "arrN20 * arrU20"
   ]
  },
  {
   "cell_type": "markdown",
   "metadata": {},
   "source": [
    "___\n",
    "## Exercício 7\n",
    "___"
   ]
  },
  {
   "cell_type": "code",
   "execution_count": 11,
   "metadata": {},
   "outputs": [
    {
     "data": {
      "text/plain": [
       "array([[-0.70395652,  0.26948211, -0.05461969,  0.32431376,  1.2489105 ,\n",
       "        -0.94578528, -0.81447683, -1.56869075,  0.56307953, -2.04364307],\n",
       "       [ 0.55053267,  1.08454454, -1.25526672,  0.01235653,  1.73582398,\n",
       "         0.96298915,  1.02918691, -0.93585616,  0.01267903, -0.32234737],\n",
       "       [-0.97151295, -0.18910786,  0.10092755, -0.85494796,  0.55430726,\n",
       "         0.83567429, -1.1728359 ,  0.4179812 , -0.26810227,  0.70560501],\n",
       "       [-0.79289249, -0.96265933, -0.04214764,  0.461249  , -0.17758039,\n",
       "        -0.53013115, -0.82275358,  0.36802811, -0.18964868,  0.57416629],\n",
       "       [-0.04532176, -0.87370739, -0.28308626,  1.30728532,  0.09132713,\n",
       "        -0.74188912, -0.17139656, -0.90610113, -1.66495758, -0.32066845]])"
      ]
     },
     "execution_count": 11,
     "metadata": {},
     "output_type": "execute_result"
    }
   ],
   "source": [
    "MN = np.random.randn(5,10)\n",
    "MN"
   ]
  },
  {
   "cell_type": "markdown",
   "metadata": {},
   "source": [
    "___\n",
    "## Exercício 8\n",
    "___"
   ]
  },
  {
   "cell_type": "code",
   "execution_count": 12,
   "metadata": {},
   "outputs": [
    {
     "data": {
      "text/plain": [
       "array([[46, 45, 26, 39,  3, 33, 33, 39, 59, 37],\n",
       "       [55, 24, 45, 45, 19, -9, 57, 55, 38, 38],\n",
       "       [38, -4, 38, -1, 42, 28, 49,  8, 12, -1],\n",
       "       [30,  2, 15, -3, 19, 46, 36, 12, 21, 39],\n",
       "       [20, 28,  8, 56, 45,  5, 16,  3, 15, 57]], dtype=int32)"
      ]
     },
     "execution_count": 12,
     "metadata": {},
     "output_type": "execute_result"
    }
   ],
   "source": [
    "MU = np.random.randint(-10,60, size = (5,10))\n",
    "MU"
   ]
  },
  {
   "cell_type": "markdown",
   "metadata": {},
   "source": [
    "___\n",
    "## Exercício 9\n",
    "___"
   ]
  },
  {
   "cell_type": "code",
   "execution_count": 16,
   "metadata": {},
   "outputs": [
    {
     "name": "stdout",
     "output_type": "stream",
     "text": [
      "1.7250517359429316\n",
      "0.539837192220311\n",
      "0.19849228868996485\n",
      "0.4904653336673722\n",
      "0.4925418207121796\n",
      "0.4870241897603232\n"
     ]
    }
   ],
   "source": [
    "for i in arrN20:\n",
    "    if i > 0:\n",
    "        print(i)"
   ]
  },
  {
   "cell_type": "markdown",
   "metadata": {},
   "source": [
    "___\n",
    "## Exercício 10\n",
    "___"
   ]
  },
  {
   "cell_type": "code",
   "execution_count": 22,
   "metadata": {},
   "outputs": [
    {
     "name": "stdout",
     "output_type": "stream",
     "text": [
      "[  2  -3 -10   0 -10  -7]\n"
     ]
    }
   ],
   "source": [
    "print(arrU20[5:11])"
   ]
  },
  {
   "cell_type": "markdown",
   "metadata": {},
   "source": [
    "___\n",
    "## Exercício 11\n",
    "___"
   ]
  },
  {
   "cell_type": "code",
   "execution_count": 28,
   "metadata": {},
   "outputs": [
    {
     "name": "stdout",
     "output_type": "stream",
     "text": [
      "[  6   7  -4   9   2  -3 -10   0 -10  -7 -10   1  -6   6   1   9  -9   3\n",
      "  -1]\n"
     ]
    }
   ],
   "source": [
    "print(arrU20[1:])"
   ]
  },
  {
   "cell_type": "markdown",
   "metadata": {},
   "source": [
    "___\n",
    "## Exercício 12\n",
    "___"
   ]
  },
  {
   "cell_type": "code",
   "execution_count": 29,
   "metadata": {},
   "outputs": [
    {
     "name": "stdout",
     "output_type": "stream",
     "text": [
      "[ -9   6   7  -4   9   2  -3 -10   0 -10  -7 -10   1  -6   6   1   9  -9\n",
      "   3]\n"
     ]
    }
   ],
   "source": [
    "print(arrU20[:-1])"
   ]
  },
  {
   "cell_type": "markdown",
   "metadata": {},
   "source": [
    "___\n",
    "## Exercício 13\n",
    "___"
   ]
  },
  {
   "cell_type": "code",
   "execution_count": 59,
   "metadata": {},
   "outputs": [
    {
     "name": "stdout",
     "output_type": "stream",
     "text": [
      "a) \n",
      " [[4 3 3 2]\n",
      " [5 3 5 5]\n",
      " [5 3 3 4]] \n",
      "\n",
      "b) \n",
      " [[4 3 3 4]\n",
      " [4 3 3 2]\n",
      " [5 3 5 5]] \n",
      "\n",
      "c) \n",
      " [[4 3 3 2]\n",
      " [5 3 5 5]] \n",
      "\n",
      "c) \n",
      " [[4 3 3]\n",
      " [5 3 5]] \n",
      "\n",
      "d) \n",
      " [[3 3 4]\n",
      " [3 3 2]\n",
      " [3 5 5]] \n",
      "\n",
      "e) \n",
      " [[3]\n",
      " [3]\n",
      " [3]\n",
      " [3]] \n",
      "\n"
     ]
    }
   ],
   "source": [
    "M = np.array([[4, 3, 3, 4],  [4, 3, 3, 2],  [5, 3, 5, 5],  [5, 3, 3, 4]])\n",
    "print(f'a) \\n {M[1:,:]} \\n')\n",
    "print(f\"b) \\n {M[:-1,:]} \\n\")\n",
    "print(f\"c) \\n {M[1:3,:]} \\n\")\n",
    "print(f\"c) \\n {M[1:3,:-1]} \\n\")\n",
    "print(f\"d) \\n {M[0:-1,1:4]} \\n\")\n",
    "print(f\"e) \\n {M[:,1:-2]} \\n\")"
   ]
  }
 ],
 "metadata": {
  "kernelspec": {
   "display_name": "min_dados_py312",
   "language": "python",
   "name": "python3"
  },
  "language_info": {
   "codemirror_mode": {
    "name": "ipython",
    "version": 3
   },
   "file_extension": ".py",
   "mimetype": "text/x-python",
   "name": "python",
   "nbconvert_exporter": "python",
   "pygments_lexer": "ipython3",
   "version": "3.11.9"
  }
 },
 "nbformat": 4,
 "nbformat_minor": 2
}
