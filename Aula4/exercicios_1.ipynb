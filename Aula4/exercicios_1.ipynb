{
 "cells": [
  {
   "cell_type": "markdown",
   "metadata": {},
   "source": [
    "---\n",
    "## Exercício 1\n",
    "---"
   ]
  },
  {
   "cell_type": "code",
   "execution_count": 4,
   "metadata": {},
   "outputs": [
    {
     "data": {
      "text/plain": [
       "array([10, 20, 30, 20, 10,  1,  0,  2,  5,  0, 20,  1,  4,  0, 20, 20, 20,\n",
       "       30, 40, 11, 44, 55])"
      ]
     },
     "execution_count": 4,
     "metadata": {},
     "output_type": "execute_result"
    }
   ],
   "source": [
    "import numpy as np\n",
    "\n",
    "v1 = [10,20,30,20,10,1,0,2,5,0,20,1,4,0,20,20,20,30,40,11,44,55]\n",
    "v2 = [1,25,50,41,5,20,10,23,5,10,20,13,4,20,100,20,50,35,40,4,55,55]\n",
    "\n",
    "array = np.array(v1)\n",
    "array2 = np.array(v2)\n",
    "\n",
    "array"
   ]
  },
  {
   "cell_type": "markdown",
   "metadata": {},
   "source": [
    "---\n",
    "## Exercício 2\n",
    "---"
   ]
  },
  {
   "cell_type": "code",
   "execution_count": 32,
   "metadata": {},
   "outputs": [
    {
     "name": "stdout",
     "output_type": "stream",
     "text": [
      "5050\n",
      "28.86607004772212\n"
     ]
    }
   ],
   "source": [
    "A = np.arange(1, 101, 1)\n",
    "print(A.sum())\n",
    "print(A.std())"
   ]
  },
  {
   "cell_type": "code",
   "execution_count": 34,
   "metadata": {},
   "outputs": [
    {
     "name": "stdout",
     "output_type": "stream",
     "text": [
      "95.80272149226137\n",
      "0.06774293033775461\n"
     ]
    }
   ],
   "source": [
    "B = [i/(i+1) for i in range(1, 101)]\n",
    "B = np.array(B)\n",
    "print(B.sum())\n",
    "print(B.std())"
   ]
  },
  {
   "cell_type": "code",
   "execution_count": 35,
   "metadata": {},
   "outputs": [
    {
     "name": "stdout",
     "output_type": "stream",
     "text": [
      "-0.4375\n",
      "0.07616542440635383\n"
     ]
    }
   ],
   "source": [
    "C = [(((-1)**i)*(i+1))/(3**i) for i in range(1,101)]\n",
    "C = np.array(C)\n",
    "print(C.sum())\n",
    "print(C.std())"
   ]
  },
  {
   "cell_type": "markdown",
   "metadata": {},
   "source": [
    "---\n",
    "## Exercício 3\n",
    "---"
   ]
  },
  {
   "cell_type": "code",
   "execution_count": 5,
   "metadata": {},
   "outputs": [
    {
     "name": "stdout",
     "output_type": "stream",
     "text": [
      "-0.24983993836007626\n",
      "-0.28274302497744713\n",
      "-0.1603909739696719\n",
      "-0.22015262061284022\n",
      "-0.16500519697303215\n",
      "1.5940597870171416\n",
      "-0.20073876845715263\n",
      "-1.7282457937249847\n",
      "0.7120991463408387\n",
      "-0.337166211987499\n",
      "-0.7896416876731527\n",
      "1.7300358148426978\n",
      "-0.24046230412124908\n",
      "-0.02707855593385557\n",
      "1.1885928393788445\n",
      "1.0190966917860629\n",
      "0.2319797981493734\n",
      "-0.8261501811462681\n",
      "0.24377113715184281\n",
      "0.9258850255347364\n"
     ]
    }
   ],
   "source": [
    "import numpy as np\n",
    "\n",
    "arrN20 = np.random.randn(20)\n",
    "\n",
    "for i in arrN20:\n",
    "    print(i)"
   ]
  }
 ],
 "metadata": {
  "kernelspec": {
   "display_name": "min_dados_py312",
   "language": "python",
   "name": "python3"
  },
  "language_info": {
   "codemirror_mode": {
    "name": "ipython",
    "version": 3
   },
   "file_extension": ".py",
   "mimetype": "text/x-python",
   "name": "python",
   "nbconvert_exporter": "python",
   "pygments_lexer": "ipython3",
   "version": "3.12.4"
  }
 },
 "nbformat": 4,
 "nbformat_minor": 2
}
