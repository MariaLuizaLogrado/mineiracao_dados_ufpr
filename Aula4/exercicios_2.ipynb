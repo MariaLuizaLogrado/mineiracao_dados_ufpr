{
 "cells": [
  {
   "cell_type": "code",
   "execution_count": 1,
   "metadata": {},
   "outputs": [],
   "source": [
    "import numpy as np\n",
    "\n",
    "arr_paes = np.array([\"frances\",\"italiano\",\"sirio\",\"frances\",\"sirio\"])\n",
    "arr_pesos = np.array([[3.0,2.8,10,3.0,3.23,3.0,2.8,3.0],   [5.0,5.3,4.95,4.9,5.23,5.,5.,6.],   [3.0,2.8,3.1,3.0,3.23,3.,3.,3.],   [6.0,6.8,6.1,6.0,6.23,5.8,5.9,6.],   [3.0,2.8,3.1,3.0,3.23,3.,3.1,3.]])"
   ]
  },
  {
   "cell_type": "code",
   "execution_count": 28,
   "metadata": {},
   "outputs": [],
   "source": [
    "import pandas as pd\n",
    "\n",
    "# Dicionário\n",
    "dic_paes = {\n",
    "    'frances': [3.0, 2.8, 10, 3.0, 3.23, 3.0, 2.8, 3.0],\n",
    "    'italiano': [5.0, 5.3, 4.95, 4.9, 5.23, 5., 5., 6.],\n",
    "    'sirio': [3.0, 2.8, 3.1, 3.0, 3.23, 3., 3., 3.],\n",
    "    'frances2': [6.0, 6.8, 6.1, 6.0, 6.23, 5.8, 5.9, 6.],\n",
    "    'sirio2': [3.0, 2.8, 3.1, 3.0, 3.23, 3., 3.1, 3.]\n",
    "}\n",
    "\n",
    "# Lista de tuplas\n",
    "lista = [\n",
    "    ('frances', [3.0, 2.8, 10, 3.0, 3.23, 3.0, 2.8, 3.0]),\n",
    "    ('italiano', [5.0, 5.3, 4.95, 4.9, 5.23, 5., 5., 6.]),\n",
    "    ('sirio', [3.0, 2.8, 3.1, 3.0, 3.23, 3., 3., 3.]),\n",
    "    ('frances2', [6.0, 6.8, 6.1, 6.0, 6.23, 5.8, 5.9, 6.]),\n",
    "    ('sirio2', [3.0, 2.8, 3.1, 3.0, 3.23, 3., 3.1, 3.])\n",
    "]\n",
    "\n",
    "# df do dicionário\n",
    "df_dic = pd.DataFrame(dic_paes)\n",
    "\n",
    "# df da tupla\n",
    "df_tp = pd.DataFrame({item[0]: item[1] for item in lista})"
   ]
  },
  {
   "cell_type": "code",
   "execution_count": 43,
   "metadata": {},
   "outputs": [
    {
     "data": {
      "text/html": [
       "<div>\n",
       "<style scoped>\n",
       "    .dataframe tbody tr th:only-of-type {\n",
       "        vertical-align: middle;\n",
       "    }\n",
       "\n",
       "    .dataframe tbody tr th {\n",
       "        vertical-align: top;\n",
       "    }\n",
       "\n",
       "    .dataframe thead th {\n",
       "        text-align: right;\n",
       "    }\n",
       "</style>\n",
       "<table border=\"1\" class=\"dataframe\">\n",
       "  <thead>\n",
       "    <tr style=\"text-align: right;\">\n",
       "      <th></th>\n",
       "      <th>frances</th>\n",
       "      <th>italiano</th>\n",
       "      <th>sirio</th>\n",
       "      <th>frances2</th>\n",
       "      <th>sirio2</th>\n",
       "    </tr>\n",
       "  </thead>\n",
       "  <tbody>\n",
       "    <tr>\n",
       "      <th>0</th>\n",
       "      <td>3.00</td>\n",
       "      <td>5.00</td>\n",
       "      <td>3.00</td>\n",
       "      <td>6.00</td>\n",
       "      <td>3.00</td>\n",
       "    </tr>\n",
       "    <tr>\n",
       "      <th>1</th>\n",
       "      <td>2.80</td>\n",
       "      <td>5.30</td>\n",
       "      <td>2.80</td>\n",
       "      <td>6.80</td>\n",
       "      <td>2.80</td>\n",
       "    </tr>\n",
       "    <tr>\n",
       "      <th>2</th>\n",
       "      <td>10.00</td>\n",
       "      <td>4.95</td>\n",
       "      <td>3.10</td>\n",
       "      <td>6.10</td>\n",
       "      <td>3.10</td>\n",
       "    </tr>\n",
       "    <tr>\n",
       "      <th>3</th>\n",
       "      <td>3.00</td>\n",
       "      <td>4.90</td>\n",
       "      <td>3.00</td>\n",
       "      <td>6.00</td>\n",
       "      <td>3.00</td>\n",
       "    </tr>\n",
       "    <tr>\n",
       "      <th>4</th>\n",
       "      <td>3.23</td>\n",
       "      <td>5.23</td>\n",
       "      <td>3.23</td>\n",
       "      <td>6.23</td>\n",
       "      <td>3.23</td>\n",
       "    </tr>\n",
       "    <tr>\n",
       "      <th>5</th>\n",
       "      <td>3.00</td>\n",
       "      <td>5.00</td>\n",
       "      <td>3.00</td>\n",
       "      <td>5.80</td>\n",
       "      <td>3.00</td>\n",
       "    </tr>\n",
       "    <tr>\n",
       "      <th>6</th>\n",
       "      <td>2.80</td>\n",
       "      <td>5.00</td>\n",
       "      <td>3.00</td>\n",
       "      <td>5.90</td>\n",
       "      <td>3.10</td>\n",
       "    </tr>\n",
       "    <tr>\n",
       "      <th>7</th>\n",
       "      <td>3.00</td>\n",
       "      <td>6.00</td>\n",
       "      <td>3.00</td>\n",
       "      <td>6.00</td>\n",
       "      <td>3.00</td>\n",
       "    </tr>\n",
       "  </tbody>\n",
       "</table>\n",
       "</div>"
      ],
      "text/plain": [
       "   frances  italiano  sirio  frances2  sirio2\n",
       "0     3.00      5.00   3.00      6.00    3.00\n",
       "1     2.80      5.30   2.80      6.80    2.80\n",
       "2    10.00      4.95   3.10      6.10    3.10\n",
       "3     3.00      4.90   3.00      6.00    3.00\n",
       "4     3.23      5.23   3.23      6.23    3.23\n",
       "5     3.00      5.00   3.00      5.80    3.00\n",
       "6     2.80      5.00   3.00      5.90    3.10\n",
       "7     3.00      6.00   3.00      6.00    3.00"
      ]
     },
     "execution_count": 43,
     "metadata": {},
     "output_type": "execute_result"
    }
   ],
   "source": [
    "df_dic"
   ]
  },
  {
   "cell_type": "code",
   "execution_count": 53,
   "metadata": {},
   "outputs": [
    {
     "name": "stdout",
     "output_type": "stream",
     "text": [
      "Soma dia 0: 20.0\n",
      "Soma dia 1: 20.5\n",
      "Soma dia 2: 27.25\n",
      "Soma dia 3: 19.9\n",
      "Soma dia 4: 21.150000000000002\n",
      "Soma dia 5: 19.8\n",
      "Soma dia 6: 19.800000000000004\n",
      "Soma dia 7: 21.0\n"
     ]
    }
   ],
   "source": [
    "num_linhas = df_dic.shape[0]\n",
    "for i in range(num_linhas):\n",
    "    print(f'Soma dia {i}: {df_dic.iloc[i].sum()}')"
   ]
  },
  {
   "cell_type": "code",
   "execution_count": 54,
   "metadata": {},
   "outputs": [
    {
     "name": "stdout",
     "output_type": "stream",
     "text": [
      "Soma frances: 30.830000000000002\n",
      "Soma italiano: 41.38\n",
      "Soma sirio: 24.13\n",
      "Soma frances2: 48.83\n",
      "Soma sirio2: 24.229999999999997\n"
     ]
    }
   ],
   "source": [
    "for coluna in df_dic.columns:\n",
    "    print(f\"Soma {coluna}: {df_dic[coluna].sum()}\")"
   ]
  },
  {
   "cell_type": "code",
   "execution_count": 55,
   "metadata": {},
   "outputs": [
    {
     "name": "stdout",
     "output_type": "stream",
     "text": [
      "Média dia 0: 4.0\n",
      "Média dia 1: 4.1\n",
      "Média dia 2: 5.45\n",
      "Média dia 3: 3.9799999999999995\n",
      "Média dia 4: 4.23\n",
      "Média dia 5: 3.96\n",
      "Média dia 6: 3.960000000000001\n",
      "Média dia 7: 4.2\n"
     ]
    }
   ],
   "source": [
    "for i in range(num_linhas):\n",
    "    print(f'Média dia {i}: {df_dic.iloc[i].mean()}')"
   ]
  },
  {
   "cell_type": "code",
   "execution_count": 56,
   "metadata": {},
   "outputs": [
    {
     "name": "stdout",
     "output_type": "stream",
     "text": [
      "Média frances: 3.8537500000000002\n",
      "Média italiano: 5.1725\n",
      "Média sirio: 3.01625\n",
      "Média frances2: 6.10375\n",
      "Média sirio2: 3.0287499999999996\n"
     ]
    }
   ],
   "source": [
    "for coluna in df_dic.columns:\n",
    "    print(f\"Média {coluna}: {df_dic[coluna].mean()}\")"
   ]
  },
  {
   "cell_type": "code",
   "execution_count": 62,
   "metadata": {},
   "outputs": [],
   "source": [
    "# url = 'https://alexandrechecoli.github.io/2-mindados/Dataset'\n",
    "# dados = pd.read_csv(url)"
   ]
  }
 ],
 "metadata": {
  "kernelspec": {
   "display_name": "min_dados_py312",
   "language": "python",
   "name": "python3"
  },
  "language_info": {
   "codemirror_mode": {
    "name": "ipython",
    "version": 3
   },
   "file_extension": ".py",
   "mimetype": "text/x-python",
   "name": "python",
   "nbconvert_exporter": "python",
   "pygments_lexer": "ipython3",
   "version": "3.12.4"
  }
 },
 "nbformat": 4,
 "nbformat_minor": 2
}
