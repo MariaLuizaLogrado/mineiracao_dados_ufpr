{
 "cells": [
  {
   "cell_type": "markdown",
   "metadata": {},
   "source": [
    "---\n",
    "## Exercício 1\n",
    "---"
   ]
  },
  {
   "cell_type": "code",
   "execution_count": 7,
   "metadata": {},
   "outputs": [
    {
     "name": "stdout",
     "output_type": "stream",
     "text": [
      "A soma dos números é: 1805\n",
      "O maior número é: 800\n",
      "O menor número é: -600\n",
      "A média dos números é: 138.84615384615384\n"
     ]
    }
   ],
   "source": [
    "numeros = [10,20,30,1,-1,50,800,500,-600,800,65,78,52]\n",
    "\n",
    "def soma(lista):\n",
    "    soma = sum(lista)\n",
    "    print(f'A soma dos números é: {soma}')\n",
    "\n",
    "def maior(lista):\n",
    "    maior = max(lista)\n",
    "    print(f'O maior número é: {maior}')\n",
    "\n",
    "def menor(lista):\n",
    "    menor = min(lista)\n",
    "    print(f'O menor número é: {menor}')\n",
    "\n",
    "def media(lista):\n",
    "    media = sum(lista)/len(lista)\n",
    "    print(f'A média dos números é: {media}')\n",
    "\n",
    "soma(numeros)\n",
    "maior(numeros)\n",
    "menor(numeros)\n",
    "media(numeros)"
   ]
  },
  {
   "cell_type": "markdown",
   "metadata": {},
   "source": [
    "---\n",
    "## Exercício 2\n",
    "---"
   ]
  },
  {
   "cell_type": "code",
   "execution_count": 8,
   "metadata": {},
   "outputs": [
    {
     "name": "stdout",
     "output_type": "stream",
     "text": [
      "A soma dos números é: 1805\n",
      "O maior número é: 800\n",
      "O menor número é: -600\n",
      "A média dos números é: 138.84615384615384\n"
     ]
    }
   ],
   "source": [
    "lista_funcoes = [soma, maior, menor, media]\n",
    "\n",
    "for funcao in lista_funcoes:\n",
    "    funcao(numeros)"
   ]
  },
  {
   "cell_type": "markdown",
   "metadata": {},
   "source": [
    "---\n",
    "## Exercicio 3\n",
    "---"
   ]
  },
  {
   "cell_type": "code",
   "execution_count": 10,
   "metadata": {},
   "outputs": [
    {
     "data": {
      "text/plain": [
       "[[1, 2, 3], [4, 5, 6], [14, 16, 18]]"
      ]
     },
     "execution_count": 10,
     "metadata": {},
     "output_type": "execute_result"
    }
   ],
   "source": [
    "A = [[1,2,3],[4,5,6],[7,8,9]]\n",
    "\n",
    "def multiplica_linha(l, p):\n",
    "    nova_linha = []\n",
    "\n",
    "    for i in A[l]:\n",
    "        mult = i*p\n",
    "        nova_linha.append(mult)\n",
    "\n",
    "    A[l] = nova_linha\n",
    "    return A\n",
    "\n",
    "multiplica_linha(2, 2)"
   ]
  },
  {
   "cell_type": "code",
   "execution_count": 16,
   "metadata": {},
   "outputs": [
    {
     "data": {
      "text/plain": [
       "[[7, 8, 9], [4, 5, 6], [1, 2, 3]]"
      ]
     },
     "execution_count": 16,
     "metadata": {},
     "output_type": "execute_result"
    }
   ],
   "source": [
    "A = [[1,2,3],[4,5,6],[7,8,9]]\n",
    "\n",
    "def troca_linhas(l1, l2):\n",
    "    linha1 = A[l1]\n",
    "    linha2 = A[l2]\n",
    "\n",
    "    A[l1] = linha2\n",
    "    A[l2] = linha1\n",
    "\n",
    "    return A\n",
    "troca_linhas(2, 0)"
   ]
  },
  {
   "cell_type": "code",
   "execution_count": 19,
   "metadata": {},
   "outputs": [
    {
     "data": {
      "text/plain": [
       "[[1, 2, 3], [4, 5, 6], [8, 10, 12]]"
      ]
     },
     "execution_count": 19,
     "metadata": {},
     "output_type": "execute_result"
    }
   ],
   "source": [
    "A = [[1,2,3],[4,5,6],[7,8,9]]\n",
    "\n",
    "def soma_linhas(l1, l2):\n",
    "    nova_linha = []\n",
    "\n",
    "    for i in range(len(A[l1])):\n",
    "        soma = A[l1][i] + A[l2][i]\n",
    "        nova_linha.append(soma)\n",
    "\n",
    "    A[l2] = nova_linha\n",
    "    return A\n",
    "\n",
    "soma_linhas(0, 2)"
   ]
  },
  {
   "cell_type": "markdown",
   "metadata": {},
   "source": [
    "---\n",
    "## Exercício 4\n",
    "---"
   ]
  },
  {
   "cell_type": "code",
   "execution_count": 33,
   "metadata": {},
   "outputs": [
    {
     "data": {
      "text/plain": [
       "403291461126605635584000000"
      ]
     },
     "execution_count": 33,
     "metadata": {},
     "output_type": "execute_result"
    }
   ],
   "source": [
    "def fatorial(n):\n",
    "    fatorial = 1\n",
    "\n",
    "    while n != 0:\n",
    "        fatorial = fatorial*n\n",
    "        n -= 1\n",
    "    \n",
    "    return fatorial\n",
    "\n",
    "fatorial(26)"
   ]
  },
  {
   "cell_type": "markdown",
   "metadata": {},
   "source": [
    "---\n",
    "## Exercício 5\n",
    "---"
   ]
  },
  {
   "cell_type": "code",
   "execution_count": 44,
   "metadata": {},
   "outputs": [
    {
     "data": {
      "text/plain": [
       "32"
      ]
     },
     "execution_count": 44,
     "metadata": {},
     "output_type": "execute_result"
    }
   ],
   "source": [
    "def soma(a,b):\n",
    "    s = a+b\n",
    "    return s\n",
    "\n",
    "def subtracao(a,b):\n",
    "    s = b-a\n",
    "    return s\n",
    "\n",
    "def multiplicacao(a,b):\n",
    "    m = a*b\n",
    "    return m\n",
    "\n",
    "def divisao(a,b):\n",
    "    d = a/b\n",
    "    return d\n",
    "\n",
    "def potenciacao(a,b):\n",
    "    p = a**b\n",
    "    return p\n",
    "\n",
    "def fatorial(n):\n",
    "    fatorial = 1\n",
    "\n",
    "    while n != 0:\n",
    "        fatorial = fatorial*n\n",
    "        n -= 1\n",
    "    \n",
    "    return fatorial\n",
    "\n",
    "# soma(2,5)\n",
    "# subtracao(2,5)\n",
    "# multiplicacao(2,5)\n",
    "# divisao(2,5)\n",
    "potenciacao(2,5)\n",
    "# fatorial(5)\n"
   ]
  },
  {
   "cell_type": "markdown",
   "metadata": {},
   "source": [
    "---\n",
    "## Exercício 6\n",
    "---"
   ]
  },
  {
   "cell_type": "code",
   "execution_count": 48,
   "metadata": {},
   "outputs": [
    {
     "name": "stdout",
     "output_type": "stream",
     "text": [
      "A - Soma\n",
      "B - Subtração\n",
      "C - Multiplicação\n",
      "D - Divisão\n",
      "E - Potenciação\n",
      "F - Fatorial\n",
      "\n",
      "9\n"
     ]
    }
   ],
   "source": [
    "menu = '''A - Soma\n",
    "B - Subtração\n",
    "C - Multiplicação\n",
    "D - Divisão\n",
    "E - Potenciação\n",
    "F - Fatorial\n",
    "'''\n",
    "\n",
    "print(menu)\n",
    "\n",
    "opcao = (input('Escolha uma opção: ')).upper()\n",
    "\n",
    "if opcao == 'A':\n",
    "    a = int(input('Digite o primeiro número: '))\n",
    "    b = int(input('Digite o segundo número: '))\n",
    "    print(soma(a,b))\n",
    "elif opcao == 'B':\n",
    "    a = int(input('Digite o primeiro número: '))\n",
    "    b = int(input('Digite o segundo número: '))\n",
    "    print(subtracao(a,b))\n",
    "elif opcao == 'C':\n",
    "    a = int(input('Digite o primeiro número: '))\n",
    "    b = int(input('Digite o segundo número: '))\n",
    "    print(multiplicacao(a,b))\n",
    "elif opcao == 'D':\n",
    "    a = int(input('Digite o primeiro número: '))\n",
    "    b = int(input('Digite o segundo número: '))\n",
    "    print(divisao(a,b))\n",
    "elif opcao == 'E':\n",
    "    a = int(input('Digite o primeiro número: '))\n",
    "    b = int(input('Digite o segundo número: '))\n",
    "    print(potenciacao(a,b))\n",
    "elif opcao == 'F':\n",
    "    n = int(input('Digite um número: '))\n",
    "    print(fatorial(n))\n",
    "else:\n",
    "    print('Opção inválida')"
   ]
  },
  {
   "cell_type": "markdown",
   "metadata": {},
   "source": [
    "---\n",
    "## Exercício 7\n",
    "---"
   ]
  },
  {
   "cell_type": "code",
   "execution_count": 52,
   "metadata": {},
   "outputs": [
    {
     "name": "stdout",
     "output_type": "stream",
     "text": [
      "A - Soma\n",
      "B - Subtração\n",
      "C - Multiplicação\n",
      "D - Divisão\n",
      "E - Potenciação\n",
      "F - Fatorial\n",
      "\n",
      "Opção inválida\n",
      "Opção inválida\n"
     ]
    }
   ],
   "source": [
    "menu = '''A - Soma\n",
    "B - Subtração\n",
    "C - Multiplicação\n",
    "D - Divisão\n",
    "E - Potenciação\n",
    "F - Fatorial\n",
    "'''\n",
    "\n",
    "print(menu)\n",
    "\n",
    "while True:\n",
    "    opcao = (input('Escolha uma opção: ')).upper()\n",
    "\n",
    "    if opcao == 'A':\n",
    "        a = int(input('Digite o primeiro número: '))\n",
    "        b = int(input('Digite o segundo número: '))\n",
    "        print(soma(a,b))\n",
    "    elif opcao == 'B':\n",
    "        a = int(input('Digite o primeiro número: '))\n",
    "        b = int(input('Digite o segundo número: '))\n",
    "        print(subtracao(a,b))\n",
    "    elif opcao == 'C':\n",
    "        a = int(input('Digite o primeiro número: '))\n",
    "        b = int(input('Digite o segundo número: '))\n",
    "        print(multiplicacao(a,b))\n",
    "    elif opcao == 'D':\n",
    "        a = int(input('Digite o primeiro número: '))\n",
    "        b = int(input('Digite o segundo número: '))\n",
    "        print(divisao(a,b))\n",
    "    elif opcao == 'E':\n",
    "        a = int(input('Digite o primeiro número: '))\n",
    "        b = int(input('Digite o segundo número: '))\n",
    "        print(potenciacao(a,b))\n",
    "    elif opcao == 'F':\n",
    "        n = int(input('Digite um número: '))\n",
    "        print(fatorial(n))\n",
    "    else:\n",
    "        print('Opção inválida')\n",
    "\n",
    "    continuar = input('Deseja continuar? (S/N): ').upper()\n",
    "\n",
    "    if continuar == 'N':\n",
    "        break"
   ]
  }
 ],
 "metadata": {
  "kernelspec": {
   "display_name": "mineiracao_dados_py31",
   "language": "python",
   "name": "python3"
  },
  "language_info": {
   "codemirror_mode": {
    "name": "ipython",
    "version": 3
   },
   "file_extension": ".py",
   "mimetype": "text/x-python",
   "name": "python",
   "nbconvert_exporter": "python",
   "pygments_lexer": "ipython3",
   "version": "3.12.4"
  }
 },
 "nbformat": 4,
 "nbformat_minor": 2
}
