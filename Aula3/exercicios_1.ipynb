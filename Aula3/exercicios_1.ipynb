{
 "cells": [
  {
   "cell_type": "markdown",
   "metadata": {},
   "source": [
    "___\n",
    "## Exercicio 1\n",
    "___"
   ]
  },
  {
   "cell_type": "code",
   "execution_count": 20,
   "metadata": {},
   "outputs": [
    {
     "name": "stdout",
     "output_type": "stream",
     "text": [
      "(10, 20, 30, 1, -1, 50, 800, 500, -600, 800, 65, 78, 52)\n",
      "Nº de elementos: 13\n",
      "Maior elemento: 800\n"
     ]
    }
   ],
   "source": [
    "numeros = [10,20,30,1,-1,50,800,500,-600,800,65,78,52]\n",
    "\n",
    "tupla = tuple(numeros)\n",
    "print(tupla)\n",
    "print(f'Nº de elementos: {len(tupla)}')\n",
    "print(f'Maior elemento: {max(tupla)}')"
   ]
  },
  {
   "cell_type": "markdown",
   "metadata": {},
   "source": [
    "---\n",
    "## Exercício 2\n",
    "---"
   ]
  },
  {
   "cell_type": "code",
   "execution_count": 21,
   "metadata": {},
   "outputs": [
    {
     "name": "stdout",
     "output_type": "stream",
     "text": [
      "10 20 30 1\n"
     ]
    }
   ],
   "source": [
    "a, b, c, d = tupla[0:4]\n",
    "print(a,b,c,d)"
   ]
  },
  {
   "cell_type": "markdown",
   "metadata": {},
   "source": [
    "---\n",
    "## Exercício 3\n",
    "---"
   ]
  },
  {
   "cell_type": "code",
   "execution_count": 49,
   "metadata": {},
   "outputs": [
    {
     "name": "stdout",
     "output_type": "stream",
     "text": [
      "O menor valor digitado é: 15\n",
      "(200, 15, 84, 63, 99)\n"
     ]
    }
   ],
   "source": [
    "i = 1\n",
    "valores = []\n",
    "while True:\n",
    "    valor = int(input(f\"Digite o valor {i}: \"))\n",
    "    if i > 5:\n",
    "        break\n",
    "    else:\n",
    "        valores.append(valor)\n",
    "    i += 1\n",
    "\n",
    "T = tuple(valores)\n",
    "\n",
    "menor_valor = min(T)\n",
    "\n",
    "print(f\"O menor valor digitado é: {menor_valor}\")\n",
    "print(T)"
   ]
  },
  {
   "cell_type": "markdown",
   "metadata": {},
   "source": [
    "---\n",
    "## Exercício 4\n",
    "---"
   ]
  },
  {
   "cell_type": "code",
   "execution_count": 56,
   "metadata": {},
   "outputs": [
    {
     "name": "stdout",
     "output_type": "stream",
     "text": [
      "[99, 63, 84, 15, 200]\n"
     ]
    }
   ],
   "source": [
    "novaLista = list(T)\n",
    "novaLista.reverse()\n",
    "print(novaLista)"
   ]
  },
  {
   "cell_type": "markdown",
   "metadata": {},
   "source": [
    "---\n",
    "## Exercício 5\n",
    "---"
   ]
  },
  {
   "cell_type": "code",
   "execution_count": 82,
   "metadata": {},
   "outputs": [],
   "source": [
    "A = [[1,2,3],[4,5,6],[7,8,9]] \n",
    "B = [[-1,2,0],[8,5,6],[10,8,9]]"
   ]
  },
  {
   "cell_type": "code",
   "execution_count": 76,
   "metadata": {},
   "outputs": [
    {
     "name": "stdout",
     "output_type": "stream",
     "text": [
      "A + B = [[0, 4, 3], [12, 10, 12], [17, 16, 18]]\n"
     ]
    }
   ],
   "source": [
    "C = []\n",
    "\n",
    "for i in range(len(A)):\n",
    "    linha = []\n",
    "    for j in range(len(A[i])):\n",
    "        linha.append(A[i][j] + B[i][j])\n",
    "    C.append(linha)\n",
    "\n",
    "print(\"A + B =\", C)"
   ]
  },
  {
   "cell_type": "code",
   "execution_count": 77,
   "metadata": {},
   "outputs": [
    {
     "name": "stdout",
     "output_type": "stream",
     "text": [
      "A - B = [[2, 0, 3], [-4, 0, 0], [-3, 0, 0]]\n"
     ]
    }
   ],
   "source": [
    "D = []\n",
    "\n",
    "for i in range(len(A)):\n",
    "    linha = []\n",
    "    for j in range(len(A[i])):\n",
    "        linha.append(A[i][j] - B[i][j])\n",
    "    D.append(linha)\n",
    "\n",
    "print(\"A - B =\", D)"
   ]
  },
  {
   "cell_type": "code",
   "execution_count": 78,
   "metadata": {},
   "outputs": [
    {
     "name": "stdout",
     "output_type": "stream",
     "text": [
      "3*A = [[3, 6, 9], [12, 15, 18], [21, 24, 27]]\n"
     ]
    }
   ],
   "source": [
    "E = []\n",
    "\n",
    "for i in range(len(A)):\n",
    "    linha = []\n",
    "    for j in range(len(A[i])):\n",
    "        linha.append(A[i][j]*3)\n",
    "    E.append(linha)\n",
    "\n",
    "print(\"3*A =\", E)"
   ]
  },
  {
   "cell_type": "code",
   "execution_count": 79,
   "metadata": {},
   "outputs": [
    {
     "name": "stdout",
     "output_type": "stream",
     "text": [
      "Soma das diagonais = 28\n"
     ]
    }
   ],
   "source": [
    "diagA = []\n",
    "diagB = []\n",
    "\n",
    "for i in range(len(A)):\n",
    "    linha = []\n",
    "    for j in range(len(A[i])):\n",
    "        if j == i:\n",
    "            diagA.append(A[i][j])\n",
    "            diagB.append(B[i][j])\n",
    "\n",
    "sumDiagA = sum(diagA)\n",
    "sumDiagB = sum(diagB)\n",
    "\n",
    "print(\"Soma das diagonais =\", sumDiagA+sumDiagB)"
   ]
  },
  {
   "cell_type": "code",
   "execution_count": 87,
   "metadata": {},
   "outputs": [
    {
     "data": {
      "text/plain": [
       "[[7, 8, 9], [4, 5, 6], [1, 2, 3]]"
      ]
     },
     "execution_count": 87,
     "metadata": {},
     "output_type": "execute_result"
    }
   ],
   "source": [
    "linha0 = A[0]\n",
    "linha2 = A[2]\n",
    "\n",
    "A[0] = linha2\n",
    "A[2] = linha0\n",
    "A"
   ]
  },
  {
   "cell_type": "code",
   "execution_count": 86,
   "metadata": {},
   "outputs": [
    {
     "data": {
      "text/plain": [
       "[[1, 2, 3], [4, 5, 6]]"
      ]
     },
     "execution_count": 86,
     "metadata": {},
     "output_type": "execute_result"
    }
   ],
   "source": [
    "E = []\n",
    "\n",
    "for i in range(len(B)):\n",
    "    linha = []\n",
    "    for j in range(len(B[i])):\n",
    "        linha.append(A[i][j]*3)\n",
    "    E.append(linha)\n",
    "\n",
    "print(\"3*A =\", E)"
   ]
  },
  {
   "cell_type": "code",
   "execution_count": 92,
   "metadata": {},
   "outputs": [
    {
     "name": "stdout",
     "output_type": "stream",
     "text": [
      "Segunda linha de B multiplicada por 3: [[-1, 2, 0], [8, 5, 6], [30, 24, 27]]\n"
     ]
    }
   ],
   "source": [
    "B = [[-1, 2, 0], [8, 5, 6], [10, 8, 9]]\n",
    "\n",
    "linha2 = B[2]\n",
    "\n",
    "resultado = [elemento * 3 for elemento in linha2]\n",
    "\n",
    "B[2] = resultado\n",
    "\n",
    "print(\"Segunda linha de B multiplicada por 3:\", B)"
   ]
  },
  {
   "cell_type": "markdown",
   "metadata": {},
   "source": [
    "---\n",
    "## Exercício 6\n",
    "---"
   ]
  },
  {
   "cell_type": "code",
   "execution_count": 8,
   "metadata": {},
   "outputs": [
    {
     "name": "stdout",
     "output_type": "stream",
     "text": [
      "3º número de Fibonacci: 2\n",
      "4º número de Fibonacci: 3\n",
      "5º número de Fibonacci: 5\n",
      "6º número de Fibonacci: 8\n",
      "7º número de Fibonacci: 13\n",
      "8º número de Fibonacci: 21\n",
      "9º número de Fibonacci: 34\n",
      "10º número de Fibonacci: 55\n",
      "11º número de Fibonacci: 89\n",
      "12º número de Fibonacci: 144\n",
      "13º número de Fibonacci: 233\n",
      "14º número de Fibonacci: 377\n",
      "15º número de Fibonacci: 610\n",
      "16º número de Fibonacci: 987\n",
      "17º número de Fibonacci: 1597\n",
      "18º número de Fibonacci: 2584\n",
      "19º número de Fibonacci: 4181\n",
      "20º número de Fibonacci: 6765\n",
      "21º número de Fibonacci: 10946\n",
      "22º número de Fibonacci: 17711\n",
      "23º número de Fibonacci: 28657\n",
      "24º número de Fibonacci: 46368\n",
      "25º número de Fibonacci: 75025\n",
      "26º número de Fibonacci: 121393\n",
      "27º número de Fibonacci: 196418\n",
      "28º número de Fibonacci: 317811\n",
      "29º número de Fibonacci: 514229\n",
      "30º número de Fibonacci: 832040\n",
      "31º número de Fibonacci: 1346269\n",
      "32º número de Fibonacci: 2178309\n",
      "33º número de Fibonacci: 3524578\n",
      "34º número de Fibonacci: 5702887\n",
      "35º número de Fibonacci: 9227465\n",
      "36º número de Fibonacci: 14930352\n",
      "37º número de Fibonacci: 24157817\n",
      "38º número de Fibonacci: 39088169\n",
      "39º número de Fibonacci: 63245986\n",
      "40º número de Fibonacci: 102334155\n",
      "41º número de Fibonacci: 165580141\n",
      "42º número de Fibonacci: 267914296\n",
      "43º número de Fibonacci: 433494437\n",
      "44º número de Fibonacci: 701408733\n",
      "45º número de Fibonacci: 1134903170\n",
      "46º número de Fibonacci: 1836311903\n",
      "47º número de Fibonacci: 2971215073\n",
      "48º número de Fibonacci: 4807526976\n",
      "49º número de Fibonacci: 7778742049\n",
      "50º número de Fibonacci: 12586269025\n",
      "51º número de Fibonacci: 20365011074\n",
      "52º número de Fibonacci: 32951280099\n",
      "53º número de Fibonacci: 53316291173\n",
      "54º número de Fibonacci: 86267571272\n",
      "55º número de Fibonacci: 139583862445\n",
      "56º número de Fibonacci: 225851433717\n",
      "57º número de Fibonacci: 365435296162\n",
      "58º número de Fibonacci: 591286729879\n",
      "59º número de Fibonacci: 956722026041\n",
      "60º número de Fibonacci: 1548008755920\n",
      "61º número de Fibonacci: 2504730781961\n",
      "62º número de Fibonacci: 4052739537881\n",
      "63º número de Fibonacci: 6557470319842\n",
      "64º número de Fibonacci: 10610209857723\n",
      "65º número de Fibonacci: 17167680177565\n",
      "66º número de Fibonacci: 27777890035288\n",
      "67º número de Fibonacci: 44945570212853\n",
      "68º número de Fibonacci: 72723460248141\n",
      "69º número de Fibonacci: 117669030460994\n",
      "70º número de Fibonacci: 190392490709135\n",
      "[1, 1, 2, 3, 5, 8, 13, 21, 34, 55, 89, 144, 233, 377, 610, 987, 1597, 2584, 4181, 6765, 10946, 17711, 28657, 46368, 75025, 121393, 196418, 317811, 514229, 832040, 1346269, 2178309, 3524578, 5702887, 9227465, 14930352, 24157817, 39088169, 63245986, 102334155, 165580141, 267914296, 433494437, 701408733, 1134903170, 1836311903, 2971215073, 4807526976, 7778742049, 12586269025, 20365011074, 32951280099, 53316291173, 86267571272, 139583862445, 225851433717, 365435296162, 591286729879, 956722026041, 1548008755920, 2504730781961, 4052739537881, 6557470319842, 10610209857723, 17167680177565, 27777890035288, 44945570212853, 72723460248141, 117669030460994, 190392490709135]\n"
     ]
    }
   ],
   "source": [
    "f1 = 1\n",
    "f2 = 1\n",
    "fibonacci = 0\n",
    "\n",
    "listaFibo = [f1, f2]\n",
    "\n",
    "i = 2\n",
    "\n",
    "while i < 70:\n",
    "    fibonacci = f1 + f2\n",
    "    f1 = f2\n",
    "    f2 = fibonacci\n",
    "    i += 1\n",
    "    listaFibo.append(fibonacci)\n",
    "    print(f'{i}º número de Fibonacci: {fibonacci}')\n",
    "print(listaFibo)"
   ]
  },
  {
   "cell_type": "markdown",
   "metadata": {},
   "source": [
    "---\n",
    "## Exercício 7\n",
    "---"
   ]
  },
  {
   "cell_type": "code",
   "execution_count": 10,
   "metadata": {},
   "outputs": [
    {
     "data": {
      "text/plain": [
       "17710"
      ]
     },
     "execution_count": 10,
     "metadata": {},
     "output_type": "execute_result"
    }
   ],
   "source": [
    "# f1 = 1\n",
    "# f2 = 1\n",
    "# soma = f1+f2\n",
    "# fibonacci = 0\n",
    "\n",
    "# i = 2\n",
    "\n",
    "# while i < 20:\n",
    "#     fibonacci = f1 + f2\n",
    "#     f1 = f2\n",
    "#     f2 = fibonacci\n",
    "#     soma += fibonacci\n",
    "#     i += 1\n",
    "#     print(f'{i}ª soma: {soma}')\n",
    "\n",
    "soma = sum(listaFibo[0:20])\n",
    "soma\n"
   ]
  },
  {
   "cell_type": "markdown",
   "metadata": {},
   "source": [
    "---\n",
    "## Exercício 8\n",
    "---"
   ]
  },
  {
   "cell_type": "code",
   "execution_count": 12,
   "metadata": {},
   "outputs": [
    {
     "data": {
      "text/plain": [
       "[2,\n",
       " 8,\n",
       " 34,\n",
       " 144,\n",
       " 610,\n",
       " 2584,\n",
       " 10946,\n",
       " 46368,\n",
       " 196418,\n",
       " 832040,\n",
       " 3524578,\n",
       " 14930352,\n",
       " 63245986,\n",
       " 267914296,\n",
       " 1134903170,\n",
       " 4807526976,\n",
       " 20365011074,\n",
       " 86267571272,\n",
       " 365435296162,\n",
       " 1548008755920,\n",
       " 6557470319842,\n",
       " 27777890035288,\n",
       " 117669030460994]"
      ]
     },
     "execution_count": 12,
     "metadata": {},
     "output_type": "execute_result"
    }
   ],
   "source": [
    "paresFibo = [elemento for elemento in listaFibo if elemento % 2 == 0]\n",
    "paresFibo"
   ]
  },
  {
   "cell_type": "markdown",
   "metadata": {},
   "source": [
    "---\n",
    "## Exercício 9\n",
    "---"
   ]
  },
  {
   "cell_type": "code",
   "execution_count": 19,
   "metadata": {},
   "outputs": [
    {
     "data": {
      "text/plain": [
       "[1,\n",
       " 2,\n",
       " 3,\n",
       " 4,\n",
       " 5,\n",
       " 6,\n",
       " 7,\n",
       " 8,\n",
       " 9,\n",
       " 10,\n",
       " 11,\n",
       " 12,\n",
       " 13,\n",
       " 14,\n",
       " 15,\n",
       " 16,\n",
       " 17,\n",
       " 18,\n",
       " 19,\n",
       " 20,\n",
       " 21,\n",
       " 22,\n",
       " 23,\n",
       " 24,\n",
       " 25,\n",
       " 26,\n",
       " 27,\n",
       " 28,\n",
       " 29,\n",
       " 30,\n",
       " 31,\n",
       " 32,\n",
       " 33,\n",
       " 34,\n",
       " 35,\n",
       " 36,\n",
       " 37,\n",
       " 38,\n",
       " 39,\n",
       " 40,\n",
       " 41,\n",
       " 42,\n",
       " 43,\n",
       " 44,\n",
       " 45,\n",
       " 46,\n",
       " 47,\n",
       " 48,\n",
       " 49,\n",
       " 50,\n",
       " 51,\n",
       " 52,\n",
       " 53,\n",
       " 54,\n",
       " 55,\n",
       " 56,\n",
       " 57,\n",
       " 58,\n",
       " 59,\n",
       " 60,\n",
       " 61,\n",
       " 62,\n",
       " 63,\n",
       " 64,\n",
       " 65,\n",
       " 66,\n",
       " 67,\n",
       " 68,\n",
       " 69,\n",
       " 70,\n",
       " 71,\n",
       " 72,\n",
       " 73,\n",
       " 74,\n",
       " 75,\n",
       " 76,\n",
       " 77,\n",
       " 78,\n",
       " 79,\n",
       " 80,\n",
       " 81,\n",
       " 82,\n",
       " 83,\n",
       " 84,\n",
       " 85,\n",
       " 86,\n",
       " 87,\n",
       " 88,\n",
       " 89,\n",
       " 90,\n",
       " 91,\n",
       " 92,\n",
       " 93,\n",
       " 94,\n",
       " 95,\n",
       " 96,\n",
       " 97,\n",
       " 98,\n",
       " 99,\n",
       " 100]"
      ]
     },
     "execution_count": 19,
     "metadata": {},
     "output_type": "execute_result"
    }
   ],
   "source": [
    "n1 = [i for i in range(1,101)]\n",
    "n1\n"
   ]
  },
  {
   "cell_type": "code",
   "execution_count": 28,
   "metadata": {},
   "outputs": [
    {
     "data": {
      "text/plain": [
       "[0.5,\n",
       " 0.6666666666666666,\n",
       " 0.75,\n",
       " 0.8,\n",
       " 0.8333333333333334,\n",
       " 0.8571428571428571,\n",
       " 0.875,\n",
       " 0.8888888888888888,\n",
       " 0.9,\n",
       " 0.9090909090909091,\n",
       " 0.9166666666666666,\n",
       " 0.9230769230769231,\n",
       " 0.9285714285714286,\n",
       " 0.9333333333333333,\n",
       " 0.9375,\n",
       " 0.9411764705882353,\n",
       " 0.9444444444444444,\n",
       " 0.9473684210526315,\n",
       " 0.95,\n",
       " 0.9523809523809523,\n",
       " 0.9545454545454546,\n",
       " 0.9565217391304348,\n",
       " 0.9583333333333334,\n",
       " 0.96,\n",
       " 0.9615384615384616,\n",
       " 0.9629629629629629,\n",
       " 0.9642857142857143,\n",
       " 0.9655172413793104,\n",
       " 0.9666666666666667,\n",
       " 0.967741935483871,\n",
       " 0.96875,\n",
       " 0.9696969696969697,\n",
       " 0.9705882352941176,\n",
       " 0.9714285714285714,\n",
       " 0.9722222222222222,\n",
       " 0.972972972972973,\n",
       " 0.9736842105263158,\n",
       " 0.9743589743589743,\n",
       " 0.975,\n",
       " 0.975609756097561,\n",
       " 0.9761904761904762,\n",
       " 0.9767441860465116,\n",
       " 0.9772727272727273,\n",
       " 0.9777777777777777,\n",
       " 0.9782608695652174,\n",
       " 0.9787234042553191,\n",
       " 0.9791666666666666,\n",
       " 0.9795918367346939,\n",
       " 0.98,\n",
       " 0.9803921568627451,\n",
       " 0.9807692307692307,\n",
       " 0.9811320754716981,\n",
       " 0.9814814814814815,\n",
       " 0.9818181818181818,\n",
       " 0.9821428571428571,\n",
       " 0.9824561403508771,\n",
       " 0.9827586206896551,\n",
       " 0.9830508474576272,\n",
       " 0.9833333333333333,\n",
       " 0.9836065573770492,\n",
       " 0.9838709677419355,\n",
       " 0.9841269841269841,\n",
       " 0.984375,\n",
       " 0.9846153846153847,\n",
       " 0.9848484848484849,\n",
       " 0.9850746268656716,\n",
       " 0.9852941176470589,\n",
       " 0.9855072463768116,\n",
       " 0.9857142857142858,\n",
       " 0.9859154929577465,\n",
       " 0.9861111111111112,\n",
       " 0.9863013698630136,\n",
       " 0.9864864864864865,\n",
       " 0.9866666666666667,\n",
       " 0.9868421052631579,\n",
       " 0.987012987012987,\n",
       " 0.9871794871794872,\n",
       " 0.9873417721518988,\n",
       " 0.9875,\n",
       " 0.9876543209876543,\n",
       " 0.9878048780487805,\n",
       " 0.9879518072289156,\n",
       " 0.9880952380952381,\n",
       " 0.9882352941176471,\n",
       " 0.9883720930232558,\n",
       " 0.9885057471264368,\n",
       " 0.9886363636363636,\n",
       " 0.9887640449438202,\n",
       " 0.9888888888888889,\n",
       " 0.989010989010989,\n",
       " 0.9891304347826086,\n",
       " 0.989247311827957,\n",
       " 0.9893617021276596,\n",
       " 0.9894736842105263,\n",
       " 0.9895833333333334,\n",
       " 0.9896907216494846,\n",
       " 0.9897959183673469,\n",
       " 0.98989898989899,\n",
       " 0.99,\n",
       " 0.9900990099009901]"
      ]
     },
     "execution_count": 28,
     "metadata": {},
     "output_type": "execute_result"
    }
   ],
   "source": [
    "n2 = [i/(i+1) for i in range(1, 101)]\n",
    "n2"
   ]
  },
  {
   "cell_type": "code",
   "execution_count": 32,
   "metadata": {},
   "outputs": [
    {
     "data": {
      "text/plain": [
       "[-0.6666666666666666,\n",
       " 0.3333333333333333,\n",
       " -0.14814814814814814,\n",
       " 0.06172839506172839,\n",
       " -0.024691358024691357,\n",
       " 0.009602194787379973,\n",
       " -0.003657978966620942,\n",
       " 0.0013717421124828531,\n",
       " -0.0005080526342529086,\n",
       " 0.00018628596589273316,\n",
       " -6.774035123372114e-05,\n",
       " 2.446179350106597e-05,\n",
       " -8.781156641408297e-06,\n",
       " 3.1361273719315344e-06,\n",
       " -1.1150675100201012e-06,\n",
       " 3.9491974313211915e-07,\n",
       " -1.3938343875251265e-07,\n",
       " 4.904232104255075e-08,\n",
       " -1.720783194475465e-08,\n",
       " 6.022741180664127e-09,\n",
       " -2.103179459914457e-09,\n",
       " 7.32926175424735e-10,\n",
       " -2.549308436259948e-10,\n",
       " 8.851765403680375e-11,\n",
       " -3.0686120066091966e-11,\n",
       " 1.062211848441645e-11,\n",
       " -3.671843426711859e-12,\n",
       " 1.2676602306505227e-12,\n",
       " -4.371242174656975e-13,\n",
       " 1.505650082381847e-13,\n",
       " -5.1807314662601186e-14,\n",
       " 1.7808764415269157e-14,\n",
       " -6.116141314334862e-15,\n",
       " 2.098675941193335e-15,\n",
       " -7.19546036980572e-16,\n",
       " 2.4651114229889966e-16,\n",
       " -8.439120186809178e-17,\n",
       " 2.887067432329456e-17,\n",
       " -9.87031600796395e-18,\n",
       " 3.3723579693876832e-18,\n",
       " -1.1515368675957942e-18,\n",
       " 3.9298480402078695e-19,\n",
       " -1.3404132850321414e-19,\n",
       " 4.569590744427755e-20,\n",
       " -1.557045735138346e-20,\n",
       " 5.302981851558136e-21,\n",
       " -1.8052704175517057e-21,\n",
       " 6.1429340597245545e-22,\n",
       " -2.0894333536478076e-22,\n",
       " 7.104073402402546e-23,\n",
       " -2.4144563197707997e-23,\n",
       " 8.202960573580281e-24,\n",
       " -2.785911138197077e-24,\n",
       " 9.45834028400242e-25,\n",
       " -3.210103369115973e-25,\n",
       " 1.089142214521491e-25,\n",
       " -3.694166575569969e-26,\n",
       " 1.2526197009116562e-26,\n",
       " -4.246168477666631e-27,\n",
       " 1.4389793174314695e-27,\n",
       " -4.875230474357984e-28,\n",
       " 1.651287741314801e-28,\n",
       " -5.591662192812025e-29,\n",
       " 1.8930106381915708e-29,\n",
       " -6.407112929263779e-30,\n",
       " 2.1680634659629957e-30,\n",
       " -7.334742073904662e-31,\n",
       " 2.480868642644224e-31,\n",
       " -8.389410868845201e-32,\n",
       " 2.8364198651809967e-32,\n",
       " -9.587898135823087e-33,\n",
       " 3.24035446256984e-33,\n",
       " -1.094914293288439e-33,\n",
       " 3.6990347746231047e-34,\n",
       " -1.2494517460949154e-34,\n",
       " 4.219639668829319e-35,\n",
       " -1.4248133946696403e-35,\n",
       " 4.810267443542803e-36,\n",
       " -1.6237189682844905e-36,\n",
       " 5.480051517960155e-37,\n",
       " -1.8492354916573362e-37,\n",
       " 6.23929047998207e-38,\n",
       " -2.1048208848132284e-38,\n",
       " 7.099594254330334e-39,\n",
       " -2.3943729642055243e-39,\n",
       " 8.07404836766979e-40,\n",
       " -2.722284507107056e-40,\n",
       " 9.177398527747272e-41,\n",
       " -3.0935051217125634e-41,\n",
       " 1.0426258002809011e-41,\n",
       " -3.513610755525381e-42,\n",
       " 1.1839340589270305e-42,\n",
       " -3.988881775596447e-43,\n",
       " 1.3437722293675973e-43,\n",
       " -4.526390667343485e-44,\n",
       " 1.5245135233761046e-44,\n",
       " -5.134100525459046e-45,\n",
       " 1.728829768777026e-45,\n",
       " -5.820975652447899e-46,\n",
       " 1.959728469657459e-46]"
      ]
     },
     "execution_count": 32,
     "metadata": {},
     "output_type": "execute_result"
    }
   ],
   "source": [
    "n3 = [(((-1)**i)*(i+1))/(3**i) for i in range(1,101)]\n",
    "n3"
   ]
  },
  {
   "cell_type": "markdown",
   "metadata": {},
   "source": [
    "--- \n",
    "## Exercício 10\n",
    "---"
   ]
  },
  {
   "cell_type": "code",
   "execution_count": 39,
   "metadata": {},
   "outputs": [
    {
     "data": {
      "text/plain": [
       "{1: 0.5,\n",
       " 2: 0.6666666666666666,\n",
       " 3: 0.75,\n",
       " 4: 0.8,\n",
       " 5: 0.8333333333333334,\n",
       " 6: 0.8571428571428571,\n",
       " 7: 0.875,\n",
       " 8: 0.8888888888888888,\n",
       " 9: 0.9,\n",
       " 10: 0.9090909090909091,\n",
       " 11: 0.9166666666666666,\n",
       " 12: 0.9230769230769231,\n",
       " 13: 0.9285714285714286,\n",
       " 14: 0.9333333333333333,\n",
       " 15: 0.9375,\n",
       " 16: 0.9411764705882353,\n",
       " 17: 0.9444444444444444,\n",
       " 18: 0.9473684210526315,\n",
       " 19: 0.95,\n",
       " 20: 0.9523809523809523,\n",
       " 21: 0.9545454545454546,\n",
       " 22: 0.9565217391304348,\n",
       " 23: 0.9583333333333334,\n",
       " 24: 0.96,\n",
       " 25: 0.9615384615384616,\n",
       " 26: 0.9629629629629629,\n",
       " 27: 0.9642857142857143,\n",
       " 28: 0.9655172413793104,\n",
       " 29: 0.9666666666666667,\n",
       " 30: 0.967741935483871,\n",
       " 31: 0.96875,\n",
       " 32: 0.9696969696969697,\n",
       " 33: 0.9705882352941176,\n",
       " 34: 0.9714285714285714,\n",
       " 35: 0.9722222222222222,\n",
       " 36: 0.972972972972973,\n",
       " 37: 0.9736842105263158,\n",
       " 38: 0.9743589743589743,\n",
       " 39: 0.975,\n",
       " 40: 0.975609756097561,\n",
       " 41: 0.9761904761904762,\n",
       " 42: 0.9767441860465116,\n",
       " 43: 0.9772727272727273,\n",
       " 44: 0.9777777777777777,\n",
       " 45: 0.9782608695652174,\n",
       " 46: 0.9787234042553191,\n",
       " 47: 0.9791666666666666,\n",
       " 48: 0.9795918367346939,\n",
       " 49: 0.98,\n",
       " 50: 0.9803921568627451,\n",
       " 51: 0.9807692307692307,\n",
       " 52: 0.9811320754716981,\n",
       " 53: 0.9814814814814815,\n",
       " 54: 0.9818181818181818,\n",
       " 55: 0.9821428571428571,\n",
       " 56: 0.9824561403508771,\n",
       " 57: 0.9827586206896551,\n",
       " 58: 0.9830508474576272,\n",
       " 59: 0.9833333333333333,\n",
       " 60: 0.9836065573770492,\n",
       " 61: 0.9838709677419355,\n",
       " 62: 0.9841269841269841,\n",
       " 63: 0.984375,\n",
       " 64: 0.9846153846153847,\n",
       " 65: 0.9848484848484849,\n",
       " 66: 0.9850746268656716,\n",
       " 67: 0.9852941176470589,\n",
       " 68: 0.9855072463768116,\n",
       " 69: 0.9857142857142858,\n",
       " 70: 0.9859154929577465,\n",
       " 71: 0.9861111111111112,\n",
       " 72: 0.9863013698630136,\n",
       " 73: 0.9864864864864865,\n",
       " 74: 0.9866666666666667,\n",
       " 75: 0.9868421052631579,\n",
       " 76: 0.987012987012987,\n",
       " 77: 0.9871794871794872,\n",
       " 78: 0.9873417721518988,\n",
       " 79: 0.9875,\n",
       " 80: 0.9876543209876543,\n",
       " 81: 0.9878048780487805,\n",
       " 82: 0.9879518072289156,\n",
       " 83: 0.9880952380952381,\n",
       " 84: 0.9882352941176471,\n",
       " 85: 0.9883720930232558,\n",
       " 86: 0.9885057471264368,\n",
       " 87: 0.9886363636363636,\n",
       " 88: 0.9887640449438202,\n",
       " 89: 0.9888888888888889,\n",
       " 90: 0.989010989010989,\n",
       " 91: 0.9891304347826086,\n",
       " 92: 0.989247311827957,\n",
       " 93: 0.9893617021276596,\n",
       " 94: 0.9894736842105263,\n",
       " 95: 0.9895833333333334,\n",
       " 96: 0.9896907216494846,\n",
       " 97: 0.9897959183673469,\n",
       " 98: 0.98989898989899,\n",
       " 99: 0.99,\n",
       " 100: 0.9900990099009901}"
      ]
     },
     "execution_count": 39,
     "metadata": {},
     "output_type": "execute_result"
    }
   ],
   "source": [
    "dicSer = {}\n",
    "\n",
    "for i, j in zip(n1, n2):\n",
    "    dicSer[i] = j\n",
    "dicSer"
   ]
  },
  {
   "cell_type": "markdown",
   "metadata": {},
   "source": [
    "---\n",
    "## Exercício 11\n",
    "---"
   ]
  },
  {
   "cell_type": "code",
   "execution_count": 64,
   "metadata": {},
   "outputs": [
    {
     "name": "stdout",
     "output_type": "stream",
     "text": [
      "Peça J cadastrada com sucesso!\n",
      "Dicionário atualizado: {'AR001': 50, 'AR002': 50, 'CR003': 60, 'BR001': 85, 'J': 10}\n"
     ]
    }
   ],
   "source": [
    "# Dicionário inicial\n",
    "dic = {'AR001': 50, 'AR002': 50, 'CR003': 60, 'BR001': 85}\n",
    "\n",
    "peca = input('Digite o nome da peça que deseja acessar: ').upper()\n",
    "\n",
    "try:\n",
    "    print(f'Peças vendidas: {dic[peca]}')   \n",
    "except KeyError:\n",
    "    resposta = input('Peça não encontrada. Deseja cadastrar ela? (sim/não) ').lower()\n",
    "    if resposta == 'sim':\n",
    "        vendas = int(input('Informe a quantidade vendida: '))\n",
    "        dic[peca] = vendas\n",
    "        print(f'Peça {peca} cadastrada com sucesso!')\n",
    "        print('Dicionário atualizado:', dic)\n",
    "    else:\n",
    "        print('Peça não cadastrada.')\n",
    "\n"
   ]
  },
  {
   "cell_type": "markdown",
   "metadata": {},
   "source": [
    "---\n",
    "## Exercício 12\n",
    "---"
   ]
  },
  {
   "cell_type": "code",
   "execution_count": 80,
   "metadata": {},
   "outputs": [
    {
     "name": "stdout",
     "output_type": "stream",
     "text": [
      "7\n",
      "21.21212121212121\n"
     ]
    }
   ],
   "source": [
    "erros = [1,2,1,1,4,5,3,6,5,5,8,7,4,5,2,2,2,9,6,3,5,8,7,4,7,4,4,7,4,1,4,5,2]\n",
    "frequencia = {}\n",
    "\n",
    "for erro in erros:\n",
    "    if erro in frequencia:\n",
    "        frequencia[erro] += 1\n",
    "    else:\n",
    "        frequencia[erro] = 1\n",
    "\n",
    "erro = 4\n",
    "probabilidade = (frequencia[erro]/len(erros))*100\n",
    "\n",
    "print(frequencia[erro])\n",
    "print(probabilidade)"
   ]
  },
  {
   "cell_type": "markdown",
   "metadata": {},
   "source": [
    "---\n",
    "## Exercício 13\n",
    "---"
   ]
  },
  {
   "cell_type": "code",
   "execution_count": 83,
   "metadata": {},
   "outputs": [
    {
     "name": "stdout",
     "output_type": "stream",
     "text": [
      "A\n",
      "E\n",
      "I\n",
      "O\n",
      "U\n"
     ]
    }
   ],
   "source": [
    "ed1 = [\"A\",\"E\",\"I\",\"O\",\"U\"] # Umas lista em que seus elementos são strings\n",
    "for i in range(len(ed1)):\n",
    "    print(ed1[i])"
   ]
  },
  {
   "cell_type": "code",
   "execution_count": 85,
   "metadata": {},
   "outputs": [
    {
     "name": "stdout",
     "output_type": "stream",
     "text": [
      "('A', 'E') A\n",
      "('A', 'E') E\n",
      "('I', 'O', 'U') I\n",
      "('I', 'O', 'U') O\n",
      "('I', 'O', 'U') U\n",
      "('F', 1, 2) F\n",
      "('F', 1, 2) 1\n",
      "('F', 1, 2) 2\n"
     ]
    }
   ],
   "source": [
    "ed2 = [(\"A\",\"E\"),(\"I\",\"O\",\"U\"),(\"F\",1,2)] # Uma lista em que seus elementos são tuplas e as tuplas podem conter strings ou inteiros\n",
    "\n",
    "for i in range(len(ed2)):\n",
    "    for j in range(len(ed2[i])):\n",
    "        print(ed2[i],ed2[i][j])"
   ]
  },
  {
   "cell_type": "code",
   "execution_count": 87,
   "metadata": {},
   "outputs": [
    {
     "name": "stdout",
     "output_type": "stream",
     "text": [
      "Chave A, valor: ['A', 'E', 'I', 'O', 'U']\n",
      "Chave B, valor: [('A', 'E'), ('I', 'O', 'U'), ('F', 1, 2)]\n"
     ]
    }
   ],
   "source": [
    "ed3 = {\"A\":ed1, \"B\":ed2} # Um dicionário em que as chaves são strings e os valores são as listas ed1 e ed2\n",
    "\n",
    "for i in ed3:\n",
    "    print(f'Chave {i}, valor: {ed3[i]}')\n"
   ]
  },
  {
   "cell_type": "code",
   "execution_count": 88,
   "metadata": {},
   "outputs": [
    {
     "name": "stdout",
     "output_type": "stream",
     "text": [
      "1\n",
      "2\n",
      "3\n",
      "a,b,s\n",
      "C1 [2, 22, 2]\n",
      "C2 C3\n"
     ]
    }
   ],
   "source": [
    "ed4 = ([1,2,3],[\"a,b,s\"], {\"C1\":[2,22,2], \"C2\":\"C3\"}) # Uma tupla em que os elementos são uma lista com inteiros, uma lista com uma string e um dicionário em que a chave e o valor são strings\n",
    "\n",
    "for i in range(len(ed4)):\n",
    "    if type(ed4[i]) == list:\n",
    "        for j in range(len(ed4[i])):\n",
    "            print(ed4[i][j])\n",
    "    elif type(ed4[i]) == dict:\n",
    "        for j in ed4[i]:\n",
    "            print(j, ed4[i][j])"
   ]
  },
  {
   "cell_type": "code",
   "execution_count": 89,
   "metadata": {},
   "outputs": [
    {
     "name": "stdout",
     "output_type": "stream",
     "text": [
      "A ['A', 'E', 'I', 'O', 'U']\n",
      "B [('A', 'E'), ('I', 'O', 'U'), ('F', 1, 2)]\n",
      "1\n",
      "2\n",
      "3\n",
      "a,b,s\n",
      "C1 [2, 22, 2]\n",
      "C2 C3\n"
     ]
    }
   ],
   "source": [
    "ed5 = [ed3, ed4] # Uma lista em que os elementos são o dicionário ed3 e a tupla ed4\n",
    "\n",
    "for i in range(len(ed5)):\n",
    "    if type(ed5[i]) == dict:\n",
    "        for j in ed5[i]:\n",
    "            print(j, ed5[i][j])\n",
    "    elif type(ed5[i]) == tuple:\n",
    "        for j in range(len(ed5[i])):\n",
    "            if type(ed5[i][j]) == list:\n",
    "                for k in range(len(ed5[i][j])):\n",
    "                    print(ed5[i][j][k])\n",
    "            elif type(ed5[i][j]) == dict:\n",
    "                for k in ed5[i][j]:\n",
    "                    print(k, ed5[i][j][k])"
   ]
  },
  {
   "cell_type": "markdown",
   "metadata": {},
   "source": [
    "---\n",
    "## Exercício 14\n",
    "---"
   ]
  },
  {
   "cell_type": "code",
   "execution_count": 90,
   "metadata": {},
   "outputs": [
    {
     "data": {
      "text/plain": [
       "('I', 'O', 'U')"
      ]
     },
     "execution_count": 90,
     "metadata": {},
     "output_type": "execute_result"
    }
   ],
   "source": [
    "ed5[0][\"B\"][1]"
   ]
  },
  {
   "cell_type": "code",
   "execution_count": 91,
   "metadata": {},
   "outputs": [
    {
     "data": {
      "text/plain": [
       "'C3'"
      ]
     },
     "execution_count": 91,
     "metadata": {},
     "output_type": "execute_result"
    }
   ],
   "source": [
    "ed4[2][\"C2\"]"
   ]
  }
 ],
 "metadata": {
  "kernelspec": {
   "display_name": "mineiracao_dados_py31",
   "language": "python",
   "name": "python3"
  },
  "language_info": {
   "codemirror_mode": {
    "name": "ipython",
    "version": 3
   },
   "file_extension": ".py",
   "mimetype": "text/x-python",
   "name": "python",
   "nbconvert_exporter": "python",
   "pygments_lexer": "ipython3",
   "version": "3.12.4"
  }
 },
 "nbformat": 4,
 "nbformat_minor": 2
}
