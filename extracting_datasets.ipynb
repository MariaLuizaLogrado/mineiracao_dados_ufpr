{
 "cells": [
  {
   "cell_type": "code",
   "execution_count": 1,
   "metadata": {},
   "outputs": [],
   "source": [
    "import aspose.zip as az\n",
    "\n",
    "# Carregar arquivo RAR\n",
    "with az.rar.RarArchive(\"Datasets (1).rar\") as archive:\n",
    "  \n",
    "    # Extraia o arquivo RAR\n",
    "    archive.extract_to_directory(\"extracted_rar\")\n"
   ]
  }
 ],
 "metadata": {
  "kernelspec": {
   "display_name": "teste_py38",
   "language": "python",
   "name": "python3"
  },
  "language_info": {
   "codemirror_mode": {
    "name": "ipython",
    "version": 3
   },
   "file_extension": ".py",
   "mimetype": "text/x-python",
   "name": "python",
   "nbconvert_exporter": "python",
   "pygments_lexer": "ipython3",
   "version": "3.8.20"
  }
 },
 "nbformat": 4,
 "nbformat_minor": 2
}
