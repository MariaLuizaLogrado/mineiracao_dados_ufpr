{
 "cells": [
  {
   "cell_type": "code",
   "execution_count": 2,
   "metadata": {},
   "outputs": [
    {
     "name": "stderr",
     "output_type": "stream",
     "text": [
      "Neither CUDA nor MPS are available - defaulting to CPU. Note: This module is much faster with a GPU.\n"
     ]
    }
   ],
   "source": [
    "import easyocr\n",
    "\n",
    "reader = easyocr.Reader(['pt', 'en']) # this needs to run only once to load the model into memory"
   ]
  },
  {
   "cell_type": "code",
   "execution_count": 3,
   "metadata": {},
   "outputs": [],
   "source": [
    "result = reader.readtext('20240828_102826.jpg')"
   ]
  },
  {
   "cell_type": "code",
   "execution_count": 17,
   "metadata": {},
   "outputs": [
    {
     "name": "stdout",
     "output_type": "stream",
     "text": [
      "LOTE/FABRICADO EM:\n",
      "28/08/2024\n",
      "VALIDADE:\n",
      "27/10/2024\n",
      "Leituras salvas em leituras.txt\n"
     ]
    }
   ],
   "source": [
    "# quero retornar essa leitura como um arquivo txt\n",
    "result = reader.readtext('20240828_102826.jpg')\n",
    "\n",
    "leituras = []\n",
    "for detection in result:\n",
    "    print(detection[1])\n",
    "    leituras.append(detection[1])\n",
    "\n",
    "with open('leituras.txt', 'w') as f:\n",
    "    for item in leituras:\n",
    "        f.write(\"%s\\n\" % item)\n",
    "\n",
    "print('Leituras salvas em leituras.txt')\n",
    "\n"
   ]
  },
  {
   "cell_type": "code",
   "execution_count": 22,
   "metadata": {},
   "outputs": [
    {
     "name": "stdout",
     "output_type": "stream",
     "text": [
      "LOTE/FABRICADO EM:\n",
      "28/08/2024\n",
      "VALIDADE:\n",
      "27/10/2024\n"
     ]
    }
   ],
   "source": [
    "# quero a lista de leituras\n",
    "leituras\n",
    "# quero uma melhor visualização paa essa lista\n",
    "for leitura in leituras:\n",
    "    print(leitura)"
   ]
  }
 ],
 "metadata": {
  "kernelspec": {
   "display_name": "min_dados_py31",
   "language": "python",
   "name": "python3"
  },
  "language_info": {
   "codemirror_mode": {
    "name": "ipython",
    "version": 3
   },
   "file_extension": ".py",
   "mimetype": "text/x-python",
   "name": "python",
   "nbconvert_exporter": "python",
   "pygments_lexer": "ipython3",
   "version": "3.10.15"
  }
 },
 "nbformat": 4,
 "nbformat_minor": 2
}
