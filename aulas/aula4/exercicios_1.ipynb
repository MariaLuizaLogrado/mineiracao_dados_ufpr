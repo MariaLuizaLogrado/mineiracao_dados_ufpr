{
 "cells": [
  {
   "cell_type": "markdown",
   "metadata": {},
   "source": [
    "---\n",
    "## Exercício 1\n",
    "---"
   ]
  },
  {
   "cell_type": "code",
   "execution_count": 2,
   "metadata": {},
   "outputs": [
    {
     "data": {
      "text/plain": [
       "array([10, 20, 30, 20, 10,  1,  0,  2,  5,  0, 20,  1,  4,  0, 20, 20, 20,\n",
       "       30, 40, 11, 44, 55])"
      ]
     },
     "execution_count": 2,
     "metadata": {},
     "output_type": "execute_result"
    }
   ],
   "source": [
    "import numpy as np\n",
    "\n",
    "v1 = [10,20,30,20,10,1,0,2,5,0,20,1,4,0,20,20,20,30,40,11,44,55]\n",
    "v2 = [1,25,50,41,5,20,10,23,5,10,20,13,4,20,100,20,50,35,40,4,55,55]\n",
    "\n",
    "array = np.array(v1)\n",
    "array2 = np.array(v2)\n",
    "\n",
    "array"
   ]
  },
  {
   "cell_type": "markdown",
   "metadata": {},
   "source": [
    "---\n",
    "## Exercício 2\n",
    "---"
   ]
  },
  {
   "cell_type": "code",
   "execution_count": 3,
   "metadata": {},
   "outputs": [
    {
     "name": "stdout",
     "output_type": "stream",
     "text": [
      "5050\n",
      "28.86607004772212\n"
     ]
    }
   ],
   "source": [
    "A = np.arange(1, 101, 1)\n",
    "print(A.sum())\n",
    "print(A.std())"
   ]
  },
  {
   "cell_type": "code",
   "execution_count": 4,
   "metadata": {},
   "outputs": [
    {
     "name": "stdout",
     "output_type": "stream",
     "text": [
      "95.80272149226137\n",
      "0.06774293033775461\n"
     ]
    }
   ],
   "source": [
    "B = [i/(i+1) for i in range(1, 101)]\n",
    "B = np.array(B)\n",
    "print(B.sum())\n",
    "print(B.std())"
   ]
  },
  {
   "cell_type": "code",
   "execution_count": 5,
   "metadata": {},
   "outputs": [
    {
     "name": "stdout",
     "output_type": "stream",
     "text": [
      "-0.4375\n",
      "0.07616542440635383\n"
     ]
    }
   ],
   "source": [
    "C = [(((-1)**i)*(i+1))/(3**i) for i in range(1,101)]\n",
    "C = np.array(C)\n",
    "print(C.sum())\n",
    "print(C.std())"
   ]
  },
  {
   "cell_type": "markdown",
   "metadata": {},
   "source": [
    "---\n",
    "## Exercício 3\n",
    "---"
   ]
  },
  {
   "cell_type": "code",
   "execution_count": 6,
   "metadata": {},
   "outputs": [
    {
     "data": {
      "text/plain": [
       "array([ 1.20599315e+00, -1.79131314e+00,  2.15966422e+00, -7.06802219e-01,\n",
       "        1.22442843e+00, -3.49440849e-01,  8.54600882e-01,  1.58054110e+00,\n",
       "       -6.15519681e-01, -2.90017124e-02, -1.52172798e+00,  1.45499772e+00,\n",
       "       -4.65528384e-01,  4.45374084e-04, -4.09297657e-01, -2.18046792e+00,\n",
       "       -1.98583069e+00,  1.38707362e-01, -1.47166458e-01,  4.83567987e-01])"
      ]
     },
     "execution_count": 6,
     "metadata": {},
     "output_type": "execute_result"
    }
   ],
   "source": [
    "import numpy as np\n",
    "\n",
    "arrN20 = np.random.randn(20)\n",
    "arrN20"
   ]
  },
  {
   "cell_type": "markdown",
   "metadata": {},
   "source": [
    "___\n",
    "## Exercício 4\n",
    "___"
   ]
  },
  {
   "cell_type": "code",
   "execution_count": 7,
   "metadata": {},
   "outputs": [
    {
     "data": {
      "text/plain": [
       "array([ -2,  -3,  -3,  -8,  -2,   9,   0,  -3,   5,   2,  -5,   6,   9,\n",
       "        -9, -10, -10,   8,  -6,   2,  -8], dtype=int32)"
      ]
     },
     "execution_count": 7,
     "metadata": {},
     "output_type": "execute_result"
    }
   ],
   "source": [
    "arrU20 = np.random.randint(-10,10, size = 20)\n",
    "arrU20"
   ]
  },
  {
   "cell_type": "markdown",
   "metadata": {},
   "source": [
    "___\n",
    "## Exercício 5\n",
    "___"
   ]
  },
  {
   "cell_type": "code",
   "execution_count": 8,
   "metadata": {},
   "outputs": [
    {
     "name": "stdout",
     "output_type": "stream",
     "text": [
      "[ 1.20599315e+01 -1.79131314e+01  2.15966422e+01 -7.06802219e+00\n",
      "  1.22442843e+01 -3.49440849e+00  8.54600882e+00  1.58054110e+01\n",
      " -6.15519681e+00 -2.90017124e-01 -1.52172798e+01  1.45499772e+01\n",
      " -4.65528384e+00  4.45374084e-03 -4.09297657e+00 -2.18046792e+01\n",
      " -1.98583069e+01  1.38707362e+00 -1.47166458e+00  4.83567987e+00]\n"
     ]
    }
   ],
   "source": [
    "print(arrN20*10)"
   ]
  },
  {
   "cell_type": "markdown",
   "metadata": {},
   "source": [
    "___\n",
    "## Exercício 6\n",
    "___"
   ]
  },
  {
   "cell_type": "markdown",
   "metadata": {},
   "source": [
    "Não é o que se espera de um produto vetorial interno que nos retorna um escalar. Esse resutado nos retorna um vetor."
   ]
  },
  {
   "cell_type": "code",
   "execution_count": 9,
   "metadata": {},
   "outputs": [
    {
     "data": {
      "text/plain": [
       "array([-2.41198631e+00,  5.37393941e+00, -6.47899265e+00,  5.65441775e+00,\n",
       "       -2.44885687e+00, -3.14496764e+00,  0.00000000e+00, -4.74162329e+00,\n",
       "       -3.07759841e+00, -5.80034247e-02,  7.60863991e+00,  8.72998631e+00,\n",
       "       -4.18975545e+00, -4.00836676e-03,  4.09297657e+00,  2.18046792e+01,\n",
       "       -1.58866455e+01, -8.32244174e-01, -2.94332915e-01, -3.86854389e+00])"
      ]
     },
     "execution_count": 9,
     "metadata": {},
     "output_type": "execute_result"
    }
   ],
   "source": [
    "arrN20 * arrU20"
   ]
  },
  {
   "cell_type": "markdown",
   "metadata": {},
   "source": [
    "___\n",
    "## Exercício 7\n",
    "___"
   ]
  },
  {
   "cell_type": "code",
   "execution_count": 10,
   "metadata": {},
   "outputs": [
    {
     "data": {
      "text/plain": [
       "array([[-0.6062807 ,  0.51403623, -0.35760522, -0.81582575, -0.23358974,\n",
       "        -0.99354963, -0.81562647, -0.56545092, -0.77269453,  0.47292363],\n",
       "       [-0.83734205,  1.24510255, -0.20737624,  0.55177677,  0.13224991,\n",
       "        -1.95472712, -0.19072085,  2.09640708,  1.78742304,  0.86452787],\n",
       "       [-1.22762037, -0.20041351, -0.86098696,  2.0043492 , -1.22578139,\n",
       "         0.81320525,  0.00655123,  0.49498827, -0.45145343,  0.42880418],\n",
       "       [ 0.0800183 , -1.34560941,  1.42000518,  0.26600963,  1.42337559,\n",
       "         0.13624215,  0.44319531,  1.45574856, -0.05991534,  0.20704527],\n",
       "       [ 1.17272179, -3.47493867, -0.37190794, -0.35516893,  1.31633217,\n",
       "        -0.74287503, -0.92393951,  1.32656651, -0.05098596,  0.62151468]])"
      ]
     },
     "execution_count": 10,
     "metadata": {},
     "output_type": "execute_result"
    }
   ],
   "source": [
    "MN = np.random.randn(5,10)\n",
    "MN"
   ]
  },
  {
   "cell_type": "markdown",
   "metadata": {},
   "source": [
    "___\n",
    "## Exercício 8\n",
    "___"
   ]
  },
  {
   "cell_type": "code",
   "execution_count": 11,
   "metadata": {},
   "outputs": [
    {
     "data": {
      "text/plain": [
       "array([[ 16,  27,  28,  55,  36,  12,  29,  57, -10,  43],\n",
       "       [ 32,  -1,  -9,   7,  39,  -6,  31,  18,   8,   8],\n",
       "       [ 18,  -8,  12,  20,  35,  52,  22,  21,  36,  48],\n",
       "       [ 24,  12,  34,   9,  25,  43,  -2,  11,  -7,  59],\n",
       "       [ 34,   0,  53,  21,  36,  17,   9,  30,  21,  32]], dtype=int32)"
      ]
     },
     "execution_count": 11,
     "metadata": {},
     "output_type": "execute_result"
    }
   ],
   "source": [
    "MU = np.random.randint(-10,60, size = (5,10))\n",
    "MU"
   ]
  },
  {
   "cell_type": "markdown",
   "metadata": {},
   "source": [
    "___\n",
    "## Exercício 9\n",
    "___"
   ]
  },
  {
   "cell_type": "code",
   "execution_count": 12,
   "metadata": {},
   "outputs": [
    {
     "name": "stdout",
     "output_type": "stream",
     "text": [
      "1.2059931537227164\n",
      "2.1596642160742014\n",
      "1.2244284340608984\n",
      "0.8546008816648409\n",
      "1.5805410955735963\n",
      "1.4549977189805756\n",
      "0.00044537408400402613\n",
      "0.13870736239030615\n",
      "0.4835679865342042\n"
     ]
    }
   ],
   "source": [
    "for i in arrN20:\n",
    "    if i > 0:\n",
    "        print(i)"
   ]
  },
  {
   "cell_type": "markdown",
   "metadata": {},
   "source": [
    "___\n",
    "## Exercício 10\n",
    "___"
   ]
  },
  {
   "cell_type": "code",
   "execution_count": 13,
   "metadata": {},
   "outputs": [
    {
     "name": "stdout",
     "output_type": "stream",
     "text": [
      "[ 9  0 -3  5  2 -5]\n"
     ]
    }
   ],
   "source": [
    "print(arrU20[5:11])"
   ]
  },
  {
   "cell_type": "markdown",
   "metadata": {},
   "source": [
    "___\n",
    "## Exercício 11\n",
    "___"
   ]
  },
  {
   "cell_type": "code",
   "execution_count": 14,
   "metadata": {},
   "outputs": [
    {
     "name": "stdout",
     "output_type": "stream",
     "text": [
      "[ -3  -3  -8  -2   9   0  -3   5   2  -5   6   9  -9 -10 -10   8  -6   2\n",
      "  -8]\n"
     ]
    }
   ],
   "source": [
    "print(arrU20[1:])"
   ]
  },
  {
   "cell_type": "markdown",
   "metadata": {},
   "source": [
    "___\n",
    "## Exercício 12\n",
    "___"
   ]
  },
  {
   "cell_type": "code",
   "execution_count": 15,
   "metadata": {},
   "outputs": [
    {
     "name": "stdout",
     "output_type": "stream",
     "text": [
      "[ -2  -3  -3  -8  -2   9   0  -3   5   2  -5   6   9  -9 -10 -10   8  -6\n",
      "   2]\n"
     ]
    }
   ],
   "source": [
    "print(arrU20[:-1])"
   ]
  },
  {
   "cell_type": "markdown",
   "metadata": {},
   "source": [
    "___\n",
    "## Exercício 13\n",
    "___"
   ]
  },
  {
   "cell_type": "code",
   "execution_count": 16,
   "metadata": {},
   "outputs": [
    {
     "name": "stdout",
     "output_type": "stream",
     "text": [
      "a) \n",
      " [[4 3 3 2]\n",
      " [5 3 5 5]\n",
      " [5 3 3 4]] \n",
      "\n",
      "b) \n",
      " [[4 3 3 4]\n",
      " [4 3 3 2]\n",
      " [5 3 5 5]] \n",
      "\n",
      "c) \n",
      " [[4 3 3 2]\n",
      " [5 3 5 5]] \n",
      "\n",
      "c) \n",
      " [[4 3 3]\n",
      " [5 3 5]] \n",
      "\n",
      "d) \n",
      " [[3 3 4]\n",
      " [3 3 2]\n",
      " [3 5 5]] \n",
      "\n",
      "e) \n",
      " [[3]\n",
      " [3]\n",
      " [3]\n",
      " [3]] \n",
      "\n"
     ]
    }
   ],
   "source": [
    "M = np.array([[4, 3, 3, 4],  [4, 3, 3, 2],  [5, 3, 5, 5],  [5, 3, 3, 4]])\n",
    "print(f'a) \\n {M[1:,:]} \\n')\n",
    "print(f\"b) \\n {M[:-1,:]} \\n\")\n",
    "print(f\"c) \\n {M[1:3,:]} \\n\")\n",
    "print(f\"c) \\n {M[1:3,:-1]} \\n\")\n",
    "print(f\"d) \\n {M[0:-1,1:4]} \\n\")\n",
    "print(f\"e) \\n {M[:,1:-2]} \\n\")"
   ]
  },
  {
   "cell_type": "markdown",
   "metadata": {},
   "source": [
    "___\n",
    "## Exercício 14\n",
    "___"
   ]
  },
  {
   "cell_type": "code",
   "execution_count": 22,
   "metadata": {},
   "outputs": [
    {
     "name": "stdout",
     "output_type": "stream",
     "text": [
      "a) \n",
      " [14 12 18 15] \n",
      "\n",
      "b) \n",
      " [18 12 14 15] \n",
      "\n",
      "c) \n",
      " 59 \n",
      "\n",
      "d) \n",
      " 3.6875 \n",
      "\n"
     ]
    }
   ],
   "source": [
    "print(f'a) \\n {M.sum(axis=1)} \\n')\n",
    "print(f\"b) \\n {M.sum(axis=0)} \\n\")\n",
    "\n",
    "print(f\"c) \\n {M.sum()} \\n\")\n",
    "print(f\"d) \\n {M.mean()} \\n\")"
   ]
  },
  {
   "cell_type": "markdown",
   "metadata": {},
   "source": [
    "___\n",
    "## Exercício 15\n",
    "___"
   ]
  },
  {
   "cell_type": "code",
   "execution_count": 24,
   "metadata": {},
   "outputs": [
    {
     "data": {
      "text/plain": [
       "array([ 2., -0.])"
      ]
     },
     "execution_count": 24,
     "metadata": {},
     "output_type": "execute_result"
    }
   ],
   "source": [
    "## A\n",
    "a = np.array([[2, 3], [1, -5]])\n",
    "b = np.array([4, 2])\n",
    "x = np.linalg.solve(a, b)\n",
    "x"
   ]
  },
  {
   "cell_type": "code",
   "execution_count": 25,
   "metadata": {},
   "outputs": [
    {
     "data": {
      "text/plain": [
       "array([0.0625, 1.3125, 0.5625])"
      ]
     },
     "execution_count": 25,
     "metadata": {},
     "output_type": "execute_result"
    }
   ],
   "source": [
    "## B\n",
    "c = np.array([[1, 2, -3], [3, -1, 2], [2, 1, 1]])\n",
    "d = np.array([1, 0, 2])\n",
    "y = np.linalg.solve(c, d)\n",
    "y"
   ]
  },
  {
   "cell_type": "markdown",
   "metadata": {},
   "source": [
    "___\n",
    "## Exercício 16\n",
    "___"
   ]
  },
  {
   "cell_type": "code",
   "execution_count": 49,
   "metadata": {},
   "outputs": [
    {
     "name": "stdout",
     "output_type": "stream",
     "text": [
      "[RESPONSE] O pão frances precisa de uma nova amostra a ser coletada. \n",
      "\n"
     ]
    }
   ],
   "source": [
    "arr_paes = np.array([\"frances\",\"italiano\",\"sirio\",\"frances\",\"sirio\"])\n",
    "\n",
    "arr_pesos = np.array([[3.0,2.8,10,3.0,3.23,3.0,2.8,3.0],   [5.0,5.3,4.95,4.9,5.23,5.,5.,6.],   [3.0,2.8,3.1,3.0,3.23,3.,3.,3.],   [6.0,6.8,6.1,6.0,6.23,5.8,5.9,6.],   [3.0,2.8,3.1,3.0,3.23,3.,3.1,3.]])\n",
    "unique_paes = np.unique(arr_paes)\n",
    "\n",
    "for i in unique_paes:\n",
    "    media = arr_pesos[arr_paes == i].mean()\n",
    "    variancia = arr_pesos[arr_paes == i].var()\n",
    "    # print(f'Média do pão {i}: {media} \\nVariancia do pão {i}: {variancia} \\n')\n",
    "    if variancia > media/2:\n",
    "        print(f'[RESPONSE] O pão {i} precisa de uma nova amostra a ser coletada. \\n')\n",
    "\n"
   ]
  },
  {
   "cell_type": "markdown",
   "metadata": {},
   "source": [
    "___\n",
    "## Exercício 17\n",
    "___"
   ]
  },
  {
   "cell_type": "code",
   "execution_count": 62,
   "metadata": {},
   "outputs": [
    {
     "name": "stdout",
     "output_type": "stream",
     "text": [
      "Média de todos o pães no primeiro dia de coleta: 4.0\n",
      "Média de todos o pães no primeiro dia de coleta: 4.2\n"
     ]
    }
   ],
   "source": [
    "print(f'Média de todos o pães no primeiro dia de coleta: {arr_pesos[:,:1].mean()}')\n",
    "print(f'Média de todos o pães no primeiro dia de coleta: {arr_pesos[:,-1:].mean()}')"
   ]
  }
 ],
 "metadata": {
  "kernelspec": {
   "display_name": "min_dados_py312",
   "language": "python",
   "name": "python3"
  },
  "language_info": {
   "codemirror_mode": {
    "name": "ipython",
    "version": 3
   },
   "file_extension": ".py",
   "mimetype": "text/x-python",
   "name": "python",
   "nbconvert_exporter": "python",
   "pygments_lexer": "ipython3",
   "version": "3.12.4"
  }
 },
 "nbformat": 4,
 "nbformat_minor": 2
}
