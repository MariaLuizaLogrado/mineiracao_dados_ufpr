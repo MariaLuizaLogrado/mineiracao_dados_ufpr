{
 "cells": [
  {
   "cell_type": "markdown",
   "metadata": {},
   "source": [
    "___\n",
    "## Exercício 1\n",
    "___"
   ]
  },
  {
   "cell_type": "code",
   "execution_count": 2,
   "metadata": {},
   "outputs": [],
   "source": [
    "import pandas as pd\n",
    "\n",
    "df = pd.read_csv('../../Datasets/daily-covid-cases-deaths.csv')"
   ]
  },
  {
   "cell_type": "code",
   "execution_count": 4,
   "metadata": {},
   "outputs": [
    {
     "name": "stdout",
     "output_type": "stream",
     "text": [
      "Primeiro registro: 2020-01-22 00:00:00\n",
      "Último registro: 2022-07-26 00:00:00\n",
      "916 days 00:00:00\n"
     ]
    }
   ],
   "source": [
    "df.Day = pd.to_datetime(df.Day)\n",
    "df.Day.max()\n",
    "df.Day.min()\n",
    "print(f'Primeiro registro: {df.Day.min()}\\nÚltimo registro: {df.Day.max()}')\n",
    "print(df.Day.max() - df.Day.min())"
   ]
  },
  {
   "cell_type": "code",
   "execution_count": null,
   "metadata": {},
   "outputs": [
    {
     "data": {
      "text/plain": [
       "<Axes: xlabel='ANO_MES'>"
      ]
     },
     "execution_count": 10,
     "metadata": {},
     "output_type": "execute_result"
    }
   ],
   "source": [
    "import matplotlib.pyplot as plt\n",
    "\n",
    "df[\"ANO_MES\"] = df.Day.dt.to_period(\"M\")\n",
    "df[\"MORTES_MESES\"] = df.groupby(\"ANO_MES\")[\"Daily new confirmed deaths due to COVID-19\"].transform(\"sum\")\n",
    "\n",
    "df.plot(x=\"ANO_MES\", y=\"MORTES_MESES\", kind=\"bar\", figsize=(15, 5))\n"
   ]
  },
  {
   "cell_type": "code",
   "execution_count": null,
   "metadata": {},
   "outputs": [],
   "source": [
    "df[]"
   ]
  },
  {
   "cell_type": "code",
   "execution_count": null,
   "metadata": {},
   "outputs": [],
   "source": []
  }
 ],
 "metadata": {
  "kernelspec": {
   "display_name": "min_dados_py31",
   "language": "python",
   "name": "python3"
  },
  "language_info": {
   "codemirror_mode": {
    "name": "ipython",
    "version": 3
   },
   "file_extension": ".py",
   "mimetype": "text/x-python",
   "name": "python",
   "nbconvert_exporter": "python",
   "pygments_lexer": "ipython3",
   "version": "3.10.15"
  }
 },
 "nbformat": 4,
 "nbformat_minor": 2
}
