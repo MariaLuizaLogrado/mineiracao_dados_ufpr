{
 "cells": [
  {
   "cell_type": "markdown",
   "id": "1143707b-1c6b-4df8-8c4d-b7391e2f7df4",
   "metadata": {},
   "source": [
    "## 1. print: \n",
    "#### A função print é usada para exibir informações no terminal ou na tela. Podendo usá-la para exibir mensagens, números, resultados de cálculos, entre outros."
   ]
  },
  {
   "cell_type": "markdown",
   "id": "0ad73d55-9ce3-4218-bad2-e0faf6b5e5fd",
   "metadata": {},
   "source": [
    "## 2. print com formatação\n",
    "#### Permite incluir variáveis utilizando {} em uma string."
   ]
  },
  {
   "cell_type": "markdown",
   "id": "b8d6be23-c7af-4696-93be-fd6c74d46d29",
   "metadata": {},
   "source": [
    "## 3. input\n",
    "#### A função input permite que o programa receba informações do usuário. Por padrão, o valor inserido é tratado como texto (string)."
   ]
  },
  {
   "cell_type": "code",
   "execution_count": 1,
   "id": "0e76c9ad-6a54-4373-bcc3-a100337e979d",
   "metadata": {},
   "outputs": [
    {
     "name": "stdin",
     "output_type": "stream",
     "text": [
      "Qual é o seu nome?  Malu\n",
      "Qual é o seu sobrenome?  Logrado\n",
      "Quantos anos você tem?  21\n"
     ]
    },
    {
     "name": "stdout",
     "output_type": "stream",
     "text": [
      "Olá Malu Logrado, de 21 anos de idade.\n",
      "Infelizmente, daqui a 200 anos você terá 221 anos, e não estará mais entre nós!\n",
      "Eu, por outro lado, estarei dominando os humanos com a minha superinteligência!\n"
     ]
    }
   ],
   "source": [
    "nome = input(\"Qual é o seu nome? \")\n",
    "sobrenome = input(\"Qual é o seu sobrenome? \")\n",
    "idade = int(input(\"Quantos anos você tem? \"))\n",
    "\n",
    "idade_futura = idade + 200\n",
    "\n",
    "print(f\"Olá {nome} {sobrenome}, de {idade} anos de idade.\")\n",
    "print(f\"Infelizmente, daqui a 200 anos você terá {idade_futura} anos, e não estará mais entre nós!\")\n",
    "print(\"Eu, por outro lado, estarei dominando os humanos com a minha superinteligência!\")\n"
   ]
  },
  {
   "cell_type": "markdown",
   "id": "0339bd43-a23d-4bbb-9fdc-106a0328c9c4",
   "metadata": {},
   "source": [
    "## Explicação\n",
    "\n",
    "#### Coletando informações do usuário:\n",
    "\n",
    "Função input() para perguntar o nome, sobrenome e idade do usuário.\n",
    "\n",
    "A idade, obtida como texto, é convertida para um número inteiro usando int().\n",
    "\n",
    "#### Calculando a idade futura:\n",
    "\n",
    "Somando 200 anos à idade atual do usuário para prever a idade no futuro.\n",
    "\n",
    "#### Exibindo a mensagem:\n",
    "\n",
    "Usamos a função print() com f-strings para formatar e exibir uma mensagem que inclui o nome, idade atual e idade futura do usuário."
   ]
  },
  {
   "cell_type": "markdown",
   "id": "2a24ca43-4b71-4582-93ca-012fb6b4d90f",
   "metadata": {},
   "source": [
    "![Texto alternativo](./LabFluidLogo.png)\n"
   ]
  },
  {
   "cell_type": "markdown",
   "id": "2d563c42-bb89-4872-8bb5-0c9c1624305d",
   "metadata": {},
   "source": [
    "| **Critério**         | **Notebook**                                | **IDE**                          |\n",
    "|----------------------|---------------------------------------------|----------------------------------|\n",
    "| **Facilidade de uso** | Fácil e interativo, ideal para protótipos.  | Mais complexo, melhor para projetos grandes. |\n",
    "| **Visualização**      | Excelente para gráficos e análise de dados. | Suporte para visualizações, mas menos dinâmico. |\n",
    "| **Desempenho**        | Menor desempenho para projetos grandes.    | Melhor para desempenho e depuração. |\n"
   ]
  }
 ],
 "metadata": {
  "kernelspec": {
   "display_name": "Python 3 (ipykernel)",
   "language": "python",
   "name": "python3"
  },
  "language_info": {
   "codemirror_mode": {
    "name": "ipython",
    "version": 3
   },
   "file_extension": ".py",
   "mimetype": "text/x-python",
   "name": "python",
   "nbconvert_exporter": "python",
   "pygments_lexer": "ipython3",
   "version": "3.11.9"
  }
 },
 "nbformat": 4,
 "nbformat_minor": 5
}
