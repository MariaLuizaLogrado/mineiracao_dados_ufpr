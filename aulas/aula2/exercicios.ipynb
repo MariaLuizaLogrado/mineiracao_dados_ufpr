{
 "cells": [
  {
   "cell_type": "markdown",
   "metadata": {},
   "source": [
    "---\n",
    "## Exercicio1\n",
    "---"
   ]
  },
  {
   "cell_type": "code",
   "execution_count": 2,
   "metadata": {},
   "outputs": [],
   "source": [
    "!conda activate mineiracao_dados_py31"
   ]
  },
  {
   "cell_type": "code",
   "execution_count": 1,
   "metadata": {},
   "outputs": [],
   "source": [
    "import numpy as np"
   ]
  },
  {
   "cell_type": "code",
   "execution_count": 1,
   "metadata": {},
   "outputs": [
    {
     "name": "stdout",
     "output_type": "stream",
     "text": [
      "A lista possui 9 elementos, sendo eles na ordem crescente e decrescente respectivamente: [-600, -1, 1, 10, 20, 30, 50, 500, 800], [800, 500, 50, 30, 20, 10, 1, -1, -600].\n",
      "O maior valor é 800 e o menor é -600.\n"
     ]
    }
   ],
   "source": [
    "lista = [10, 20, 30, 1, -1, 50, 800, 500, -600]\n",
    "numElmts = len(lista)\n",
    "listaC = sorted(lista)\n",
    "listaD = sorted(lista, reverse=True)\n",
    "maior = max(lista)\n",
    "menor = min(lista)\n",
    "print(f'A lista possui {numElmts} elementos, sendo eles na ordem crescente e decrescente respectivamente: {listaC}, {listaD}.\\nO maior valor é {maior} e o menor é {menor}.')\n"
   ]
  },
  {
   "cell_type": "markdown",
   "metadata": {},
   "source": [
    "---\n",
    "## Exercicio2\n",
    "---"
   ]
  },
  {
   "cell_type": "code",
   "execution_count": 2,
   "metadata": {},
   "outputs": [
    {
     "name": "stdout",
     "output_type": "stream",
     "text": [
      "Olá (3) e olá (3).\n",
      "As strings são diferentes.\n",
      "As strings são do mesmo tamanho.\n"
     ]
    }
   ],
   "source": [
    "\n",
    "string1 = input('Digite a primeira string: ')\n",
    "string2 = input('Digite a segunda string: ')\n",
    "\n",
    "if string1 == string2:\n",
    "    a = 'As strings são iguais.'\n",
    "else:\n",
    "    a = 'As strings são diferentes.'\n",
    "if len(string1) == len(string2):\n",
    "    b = 'As strings são do mesmo tamanho.'\n",
    "else:\n",
    "    b = 'As strings são de tamanhos diferentes.'\n",
    "\n",
    "print(f'{string1} ({len(string1)}) e {string2} ({len(string2)}).\\n{a}\\n{b}')"
   ]
  },
  {
   "cell_type": "markdown",
   "metadata": {},
   "source": [
    "---\n",
    "## Exercicio3\n",
    "---"
   ]
  },
  {
   "cell_type": "code",
   "execution_count": 6,
   "metadata": {},
   "outputs": [
    {
     "name": "stdout",
     "output_type": "stream",
     "text": [
      "m\n",
      "a\n",
      "l\n",
      "u\n"
     ]
    }
   ],
   "source": [
    "nome = input(\"Digite seu nome: \")\n",
    "for letra in nome:\n",
    "    print(letra)"
   ]
  },
  {
   "cell_type": "markdown",
   "metadata": {},
   "source": [
    "---\n",
    "## Exercicio4\n",
    "---"
   ]
  },
  {
   "cell_type": "code",
   "execution_count": 7,
   "metadata": {},
   "outputs": [
    {
     "name": "stdout",
     "output_type": "stream",
     "text": [
      "m\n",
      "ma\n",
      "mal\n",
      "malu\n"
     ]
    }
   ],
   "source": [
    "nome = input(\"Digite seu nome: \")\n",
    "escada = \"\"\n",
    "for letra in nome:\n",
    "    escada += letra\n",
    "    print(escada)"
   ]
  },
  {
   "cell_type": "markdown",
   "metadata": {},
   "source": [
    "---\n",
    "## Exercicio5\n",
    "---"
   ]
  },
  {
   "cell_type": "code",
   "execution_count": 37,
   "metadata": {},
   "outputs": [
    {
     "name": "stdout",
     "output_type": "stream",
     "text": [
      "Você tem 21 anos. Faltam 262 dias para seu próximo aniversário.\n"
     ]
    }
   ],
   "source": [
    "from datetime import datetime\n",
    "\n",
    "aniversario = input(\"Digite sua data de nascimento (dd/mm/aaaa): \")\n",
    "aniversario = datetime.strptime(aniversario, \"%d/%m/%Y\")\n",
    "\n",
    "data_atual = datetime.now()\n",
    "\n",
    "verifica = ((data_atual.month, data_atual.day) < (aniversario.month, aniversario.day))\n",
    "idade = data_atual.year - aniversario.year - verifica\n",
    "\n",
    "proximo_aniversario = aniversario.replace(year=data_atual.year)\n",
    "if proximo_aniversario < data_atual:\n",
    "    proximo_aniversario = proximo_aniversario.replace(year=data_atual.year + 1)\n",
    "\n",
    "dias_para_aniversario = (proximo_aniversario - data_atual).days\n",
    "\n",
    "print(f\"Você tem {idade} anos. Faltam {dias_para_aniversario} dias para seu próximo aniversário.\")"
   ]
  },
  {
   "cell_type": "markdown",
   "metadata": {},
   "source": [
    "---\n",
    "## Exercício6\n",
    "---"
   ]
  },
  {
   "cell_type": "code",
   "execution_count": 60,
   "metadata": {},
   "outputs": [
    {
     "name": "stdout",
     "output_type": "stream",
     "text": [
      "A palavra 'Se' aparece 2 vezes na frase.\n",
      "A nova frase é: carro vives de acordo com as leis da natureza, nunca carrorás pobre; carro vives de acordo com as opiniões alheias, nunca carrorás rico.\n"
     ]
    }
   ],
   "source": [
    "import re\n",
    "\n",
    "frase = \"Se vives de acordo com as leis da natureza, nunca serás pobre; se vives de acordo com as opiniões alheias, nunca serás rico.\"\n",
    "frase_lower = frase.lower()\n",
    "\n",
    "# palavra = 'Se'\n",
    "palavra = input(\"Digite a palavra que deseja contar: \")\n",
    "palavra_lower = palavra.lower()\n",
    "\n",
    "# palavra2 = 'carro'\n",
    "palavra2 = input(\"Digite a palavra que deseja substituir: \")\n",
    "palavra_lower2 = palavra2.lower()\n",
    "\n",
    "ocorrencias = re.findall(r'\\b' + re.escape(palavra_lower) + r'\\b', frase_lower)\n",
    "\n",
    "nova_frase = frase_lower.replace(palavra_lower, palavra_lower2)\n",
    "\n",
    "print(f\"A palavra '{palavra}' aparece {len(ocorrencias)} vezes na frase.\")\n",
    "print(f\"A nova frase é: {nova_frase}\")"
   ]
  },
  {
   "cell_type": "markdown",
   "metadata": {},
   "source": [
    "---\n",
    "## Exercício7\n",
    "---"
   ]
  },
  {
   "cell_type": "code",
   "execution_count": 89,
   "metadata": {},
   "outputs": [
    {
     "name": "stdout",
     "output_type": "stream",
     "text": [
      "A pessoa 1 tem 21 anos e a pessoa 2 tem 21 anos.\n",
      "A diferença de idade entre as duas pessoas é de 0.43 anos.\n",
      "A pessoa mais velha nasceu em 21/12/2002.\n"
     ]
    }
   ],
   "source": [
    "from datetime import datetime\n",
    "\n",
    "# aniversario = \"21/12/2002\"\n",
    "# aniversario2 = \"26/05/2003\"\n",
    "\n",
    "aniversario = input(\"Digite a data de nascimento da pessoa 1 (dd/mm/aaaa): \")\n",
    "aniversario2 = input\n",
    "\n",
    "aniversario = datetime.strptime(aniversario, \"%d/%m/%Y\")\n",
    "aniversario2 = datetime.strptime(aniversario2, \"%d/%m/%Y\")\n",
    "\n",
    "data_atual = datetime.now()\n",
    "\n",
    "verifica1 = ((data_atual.month, data_atual.day) < (aniversario.month, aniversario.day))\n",
    "verifica2 = ((data_atual.month, data_atual.day) < (aniversario2.month, aniversario2.day))\n",
    "\n",
    "idade1 = data_atual.year - aniversario.year - verifica1\n",
    "idade2 = data_atual.year - aniversario2.year - verifica2\n",
    "\n",
    "diferenca = ((abs(aniversario - aniversario2)).days)/365\n",
    "\n",
    "if aniversario > aniversario2:\n",
    "    mais_velha = aniversario2\n",
    "else:\n",
    "    mais_velha = aniversario\n",
    "\n",
    "print(f\"A pessoa 1 tem {idade1} anos e a pessoa 2 tem {idade2} anos.\")\n",
    "print(f\"A diferença de idade entre as duas pessoas é de {diferenca:.2f} anos.\")\n",
    "print(f\"A pessoa mais velha nasceu em {maior.strftime('%d/%m/%Y')}.\")"
   ]
  },
  {
   "cell_type": "markdown",
   "metadata": {},
   "source": [
    "---\n",
    "## Exercício 8\n",
    "---"
   ]
  },
  {
   "cell_type": "code",
   "execution_count": 114,
   "metadata": {},
   "outputs": [
    {
     "name": "stdout",
     "output_type": "stream",
     "text": [
      "O preço total é de R$1.00.\n"
     ]
    }
   ],
   "source": [
    "tipo = input('Digite o tipo de maçã (M1 ou M2): ').upper()\n",
    "\n",
    "if tipo in ['M1', 'M2']:\n",
    "    quantidade = input('Digite a quantidade de maçãs: ')\n",
    "    if tipo == 'M1':\n",
    "        if int(quantidade) >= 6:\n",
    "            limite = 'superior'\n",
    "        else:\n",
    "            limite = 'inferior'\n",
    "    if tipo == 'M2':\n",
    "        if int(quantidade) >= 10:\n",
    "            limite = 'superior'\n",
    "        else:\n",
    "            limite = 'inferior'\n",
    "\n",
    "\n",
    "    dicMacas = {'M1': {'inferior': 0.5, 'superior': 0.3}, 'M2': {'inferior': 0.6, 'superior': 0.4}}\n",
    "\n",
    "    preco = dicMacas[tipo][limite]\n",
    "    total = int(quantidade) * preco\n",
    "\n",
    "    print(f'O preço total é de R${total:.2f}.')\n",
    "else:\n",
    "    print('Tipo de maçã inválido.')"
   ]
  },
  {
   "cell_type": "markdown",
   "metadata": {},
   "source": [
    "---\n",
    "## Exercício 9\n",
    "---"
   ]
  },
  {
   "cell_type": "code",
   "execution_count": 132,
   "metadata": {},
   "outputs": [
    {
     "name": "stdout",
     "output_type": "stream",
     "text": [
      "40200\n"
     ]
    }
   ],
   "source": [
    "numeros = list(range(1,501))\n",
    "\n",
    "pares = [numero for numero in numeros if numero % 2 == 0 and numero <= 400]\n",
    "\n",
    "soma = sum(pares)\n",
    "print(soma)"
   ]
  },
  {
   "cell_type": "markdown",
   "metadata": {},
   "source": [
    "---\n",
    "## Exercício 10\n",
    "---"
   ]
  },
  {
   "cell_type": "code",
   "execution_count": 141,
   "metadata": {},
   "outputs": [
    {
     "name": "stdout",
     "output_type": "stream",
     "text": [
      "A maior nota é 10, a menor é 0.5 e a média é 6.32. O status da turma é ruim. Há 8 notas acima de 7.\n"
     ]
    }
   ],
   "source": [
    "notas = [0.5,1.8,10,5.9,7.8,9.5,10,2.5,3,6.9,8,2.5,5.9,10,9.8,7]\n",
    "\n",
    "maior = max(notas)\n",
    "menor = min(notas)\n",
    "media = sum(notas)/len(notas)\n",
    "\n",
    "if media > 7:\n",
    "    status = 'boa'\n",
    "else:\n",
    "    status = 'ruim'\n",
    "\n",
    "notas_boas = [nota for nota in notas if nota >= 7]\n",
    "qtd_notas_boas = len(notas_boas)\n",
    "\n",
    "print(f'A maior nota é {maior}, a menor é {menor} e a média é {media:.2f}. O status da turma é {status}. Há {qtd_notas_boas} notas acima de 7.')"
   ]
  },
  {
   "cell_type": "markdown",
   "metadata": {},
   "source": [
    "---\n",
    "## Exercício 11\n",
    "---"
   ]
  },
  {
   "cell_type": "code",
   "execution_count": 145,
   "metadata": {},
   "outputs": [
    {
     "name": "stdout",
     "output_type": "stream",
     "text": [
      "Soma: 1, Maior valor: 1\n",
      "Soma: 3, Maior valor: 2\n",
      "Soma: 13, Maior valor: 10\n",
      "Soma: 18, Maior valor: 10\n",
      "Soma: 44, Maior valor: 26\n"
     ]
    }
   ],
   "source": [
    "soma = 0\n",
    "maior = None\n",
    "\n",
    "while True:\n",
    "    numero = int(input('Digite o numero: '))\n",
    "    if numero < 0:\n",
    "        break\n",
    "    soma += numero\n",
    "    if maior is None or numero > maior:\n",
    "        maior = numero\n",
    "    print(f\"Soma: {soma}, Maior valor: {maior}\")"
   ]
  }
 ],
 "metadata": {
  "kernelspec": {
   "display_name": "mineiracao_dados_py31",
   "language": "python",
   "name": "python3"
  },
  "language_info": {
   "codemirror_mode": {
    "name": "ipython",
    "version": 3
   },
   "file_extension": ".py",
   "mimetype": "text/x-python",
   "name": "python",
   "nbconvert_exporter": "python",
   "pygments_lexer": "ipython3",
   "version": "3.11.9"
  }
 },
 "nbformat": 4,
 "nbformat_minor": 4
}
